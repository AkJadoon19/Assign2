{
  "nbformat": 4,
  "nbformat_minor": 0,
  "metadata": {
    "kernelspec": {
      "display_name": "Python 3",
      "language": "python",
      "name": "python3"
    },
    "language_info": {
      "codemirror_mode": {
        "name": "ipython",
        "version": 3
      },
      "file_extension": ".py",
      "mimetype": "text/x-python",
      "name": "python",
      "nbconvert_exporter": "python",
      "pygments_lexer": "ipython3",
      "version": "3.8.3"
    },
    "colab": {
      "name": "lab2 1.ipynb",
      "provenance": [],
      "toc_visible": true,
      "include_colab_link": true
    }
  },
  "cells": [
    {
      "cell_type": "markdown",
      "metadata": {
        "id": "view-in-github",
        "colab_type": "text"
      },
      "source": [
        "<a href=\"https://colab.research.google.com/github/AkJadoon19/Assign2/blob/main/lab2_2017023.ipynb\" target=\"_parent\"><img src=\"https://colab.research.google.com/assets/colab-badge.svg\" alt=\"Open In Colab\"/></a>"
      ]
    },
    {
      "cell_type": "markdown",
      "metadata": {
        "id": "7YvA2ynJmyP-"
      },
      "source": [
        "# Lab 2 Exploratory Data Analysis"
      ]
    },
    {
      "cell_type": "markdown",
      "metadata": {
        "id": "cco6mzMAmyP_"
      },
      "source": [
        "For this lab, we'll explore some data from a very useful source, the UC Irvine machine learning data repository.\n",
        "\n",
        "First, create a directory ~/labs/lab2 on your VM/Linux OS. \n",
        "\n",
        "Open a browser and point it at this ipynb file. Click on the download link (top right hand corner of the page) and download this file into your lab2 directory.\n",
        "\n",
        "Now from inside (or outside) your VM open a browser and go to this URL (this may be a good time to enable clipboard sharing on your VM. Its under the \"Devices\" menu):\n",
        "https://archive.ics.uci.edu/ml/datasets/Heart+Disease\n",
        "and read the dataset description. \n",
        "\n",
        "Click on the \"Data Folder\" link near the top of the page. If you're not inside your VM, copy the URL for this page and then paste it into a browser on your VM. \n",
        "\n",
        "Now click on \"processed.cleveland.data\" and save it into ~/labs/lab2. \n",
        "\n",
        "Now read the data into a python and create a variable \"cleveland_raw_data\" which is a list of rows from this dataset. Each row should be a list of string values returned by the csv file reader."
      ]
    },
    {
      "cell_type": "code",
      "metadata": {
        "id": "qw45j2DTmyQA"
      },
      "source": [
        "\n",
        "import csv\n",
        "with open('processed.cleveland.data') as csvfile:\n",
        "    cleveland_raw_data = list(csv.reader(csvfile))    \n",
        "        "
      ],
      "execution_count": 3,
      "outputs": []
    },
    {
      "cell_type": "markdown",
      "metadata": {
        "id": "yZxHyotTmyQC"
      },
      "source": [
        "> TODO: How many rows are there in the dataset?\n",
        "\n",
        "Ans 303\n",
        "\n",
        "---\n",
        "\n"
      ]
    },
    {
      "cell_type": "code",
      "metadata": {
        "colab": {
          "base_uri": "https://localhost:8080/"
        },
        "id": "O5-q-UqjGoz4",
        "outputId": "ce9618a1-e042-4c83-966b-51409ef63486"
      },
      "source": [
        "len(cleveland_raw_data)"
      ],
      "execution_count": 4,
      "outputs": [
        {
          "output_type": "execute_result",
          "data": {
            "text/plain": [
              "303"
            ]
          },
          "metadata": {
            "tags": []
          },
          "execution_count": 4
        }
      ]
    },
    {
      "cell_type": "code",
      "metadata": {
        "colab": {
          "base_uri": "https://localhost:8080/"
        },
        "id": "OabVQWNmIEf-",
        "outputId": "50cb2f3a-6f51-4204-f64e-3dae51b44138"
      },
      "source": [
        "len(cleveland_raw_data[2])"
      ],
      "execution_count": 5,
      "outputs": [
        {
          "output_type": "execute_result",
          "data": {
            "text/plain": [
              "14"
            ]
          },
          "metadata": {
            "tags": []
          },
          "execution_count": 5
        }
      ]
    },
    {
      "cell_type": "markdown",
      "metadata": {
        "id": "leyokuF-myQC"
      },
      "source": [
        "## Data Cleaning"
      ]
    },
    {
      "cell_type": "markdown",
      "metadata": {
        "id": "aysVf4gDmyQC"
      },
      "source": [
        "First we have to clean and sanitize the data. This data is pretty clean and is mostly numeric but contains some '?' in some fields.  To make it easier to handle, we convert those fields to 'None'. For convenience, you should define a function \"safefloat\" that takes a string argument, and returns None if the argument is '?', otherwise the float value of the string. "
      ]
    },
    {
      "cell_type": "code",
      "metadata": {
        "id": "vt7EQxZqmyQC"
      },
      "source": [
        "import string \n",
        "\n",
        "def safefloat(x):       # TODO: Implement safefloat()\n",
        "    if x==\"?\":\n",
        "      return None\n",
        "    else:\n",
        "      return float(x)\n",
        "    \n",
        "cleveland_data = [[safefloat(x) for x in y] for y in cleveland_raw_data]"
      ],
      "execution_count": 8,
      "outputs": []
    },
    {
      "cell_type": "markdown",
      "metadata": {
        "id": "ViOxPpCwmyQC"
      },
      "source": [
        "As discussed in the dataset summary, the following are the column names. "
      ]
    },
    {
      "cell_type": "code",
      "metadata": {
        "id": "lTSmyVPNmyQC"
      },
      "source": [
        "headers = ['age', 'sex', 'cp', 'trestbps', 'chol', 'fbs', 'restecg', 'thalach', 'exang', 'oldpeak', 'slope', 'ca', 'thal', 'num']"
      ],
      "execution_count": 11,
      "outputs": []
    },
    {
      "cell_type": "markdown",
      "metadata": {
        "id": "ywSFqPhFmyQD"
      },
      "source": [
        "Now we construct a dictionary mapping these header names to the column numbers 0...13:"
      ]
    },
    {
      "cell_type": "code",
      "metadata": {
        "id": "sAcmKPNmmyQD"
      },
      "source": [
        "headernum = dict(zip(headers, range(len(headers))))    "
      ],
      "execution_count": 12,
      "outputs": []
    },
    {
      "cell_type": "code",
      "metadata": {
        "colab": {
          "base_uri": "https://localhost:8080/"
        },
        "id": "_fGHrb7AKgtx",
        "outputId": "9fca6245-5bb5-41cb-9bdb-8f669eebcaeb"
      },
      "source": [
        "headernum"
      ],
      "execution_count": 13,
      "outputs": [
        {
          "output_type": "execute_result",
          "data": {
            "text/plain": [
              "{'age': 0,\n",
              " 'ca': 11,\n",
              " 'chol': 4,\n",
              " 'cp': 2,\n",
              " 'exang': 8,\n",
              " 'fbs': 5,\n",
              " 'num': 13,\n",
              " 'oldpeak': 9,\n",
              " 'restecg': 6,\n",
              " 'sex': 1,\n",
              " 'slope': 10,\n",
              " 'thal': 12,\n",
              " 'thalach': 7,\n",
              " 'trestbps': 3}"
            ]
          },
          "metadata": {
            "tags": []
          },
          "execution_count": 13
        }
      ]
    },
    {
      "cell_type": "markdown",
      "metadata": {
        "id": "yvnU-oUhmyQD"
      },
      "source": [
        "Define a function \"getcol\" that takes a column name and returns the data in that column as a list of numbers."
      ]
    },
    {
      "cell_type": "code",
      "metadata": {
        "id": "QOBsRzodmyQD"
      },
      "source": [
        "def getcol(name): # TODO write getcol\n",
        "    return [x[headernum[name]] for x in cleveland_data]\n"
      ],
      "execution_count": 14,
      "outputs": []
    },
    {
      "cell_type": "markdown",
      "metadata": {
        "id": "YoBr3oUSmyQD"
      },
      "source": [
        "## Basic Statistics"
      ]
    },
    {
      "cell_type": "markdown",
      "metadata": {
        "id": "gA996UF-myQD"
      },
      "source": [
        "What is the minimum, maximum, mean and standard deviation of the age of this set of subjects? Use the numpy package with contains the mean() and std() functions. "
      ]
    },
    {
      "cell_type": "code",
      "metadata": {
        "id": "SPpY-oeHmyQD",
        "colab": {
          "base_uri": "https://localhost:8080/"
        },
        "outputId": "3eac7c88-be6d-40ce-ce49-880b2699a225"
      },
      "source": [
        "import numpy as np\n",
        "age = getcol('age')\n",
        "[min(age), max(age), np.mean(age), np.std(age)]"
      ],
      "execution_count": 15,
      "outputs": [
        {
          "output_type": "execute_result",
          "data": {
            "text/plain": [
              "[29.0, 77.0, 54.43894389438944, 9.02373483119838]"
            ]
          },
          "metadata": {
            "tags": []
          },
          "execution_count": 15
        }
      ]
    },
    {
      "cell_type": "markdown",
      "metadata": {
        "id": "ScbDD1qzmyQD"
      },
      "source": [
        "Next we define a function select which given a column name and a predicate, returns the values of that column at rows for which the predicate is true."
      ]
    },
    {
      "cell_type": "code",
      "metadata": {
        "id": "jafdQS9omyQD"
      },
      "source": [
        "def select(colname, predicate):\n",
        "    icol = headernum[colname]\n",
        "    return [i[icol] for i in cleveland_data if predicate(i)]"
      ],
      "execution_count": 16,
      "outputs": []
    },
    {
      "cell_type": "markdown",
      "metadata": {
        "id": "zGsKHVP5myQD"
      },
      "source": [
        "Now run these expressions to get the mean age of male and female subjects."
      ]
    },
    {
      "cell_type": "code",
      "metadata": {
        "id": "j0X2g26imyQD",
        "colab": {
          "base_uri": "https://localhost:8080/"
        },
        "outputId": "5bbf1561-7e6c-4afb-f7b9-2b3eb0fff3f8"
      },
      "source": [
        "def fieldis(colname, cval):\n",
        "    icol = headernum[colname]\n",
        "    return lambda x: x[icol] == cval\n",
        "\n",
        "[np.mean(select('age', fieldis('sex',1))), np.mean(select('age', fieldis('sex',0)))]"
      ],
      "execution_count": 18,
      "outputs": [
        {
          "output_type": "execute_result",
          "data": {
            "text/plain": [
              "[53.83495145631068, 55.72164948453608]"
            ]
          },
          "metadata": {
            "tags": []
          },
          "execution_count": 18
        }
      ]
    },
    {
      "cell_type": "markdown",
      "metadata": {
        "id": "2kek6kl4myQD"
      },
      "source": [
        "> TODO: What were the mean ages for females and males?\n",
        "\n",
        "53.83495145631068, 55.72164948453608"
      ]
    },
    {
      "cell_type": "markdown",
      "metadata": {
        "id": "qI4EM6CMmyQD"
      },
      "source": [
        "## Histograms of Data Fields"
      ]
    },
    {
      "cell_type": "markdown",
      "metadata": {
        "id": "3He557PRmyQD"
      },
      "source": [
        "Plot histograms of age and resting blood pressure"
      ]
    },
    {
      "cell_type": "code",
      "metadata": {
        "id": "2j9ZWRrcmyQD",
        "colab": {
          "base_uri": "https://localhost:8080/",
          "height": 265
        },
        "outputId": "e3c2a667-6e78-41ca-9510-734dd2255f61"
      },
      "source": [
        "import pylab\n",
        "%matplotlib inline\n",
        "\n",
        "h1 = pylab.hist(age, 30)"
      ],
      "execution_count": 19,
      "outputs": [
        {
          "output_type": "display_data",
          "data": {
            "image/png": "[encoded data removed]",
            "text/plain": [
              "<Figure size 432x288 with 1 Axes>"
            ]
          },
          "metadata": {
            "tags": [],
            "needs_background": "light"
          }
        }
      ]
    },
    {
      "cell_type": "code",
      "metadata": {
        "id": "1B0zefp-myQD",
        "colab": {
          "base_uri": "https://localhost:8080/",
          "height": 265
        },
        "outputId": "584051e3-fb9c-430b-bc73-7a5d0e1b579f"
      },
      "source": [
        "bp = getcol('trestbps')\n",
        "h2 = pylab.hist(bp, 30)"
      ],
      "execution_count": 20,
      "outputs": [
        {
          "output_type": "display_data",
          "data": {
            "image/png": "[encoded data removed]",
            "text/plain": [
              "<Figure size 432x288 with 1 Axes>"
            ]
          },
          "metadata": {
            "tags": [],
            "needs_background": "light"
          }
        }
      ]
    },
    {
      "cell_type": "markdown",
      "metadata": {
        "id": "EUe759GKmyQE"
      },
      "source": [
        "> TODO\n",
        "Describe the rough shape of the distribution of bps.\n",
        "Is it skewed? \n",
        "\n",
        "Its is roughly shaped because distribution is described by number of peaks and its symmetry .Yes it is skewed distribution (first one is positive skewed distribution and seond one is negatively skewed distribution)."
      ]
    },
    {
      "cell_type": "markdown",
      "metadata": {
        "id": "o2a2tKREmyQE"
      },
      "source": [
        "## Scatter Plots"
      ]
    },
    {
      "cell_type": "markdown",
      "metadata": {
        "id": "rsHCeiGCmyQE"
      },
      "source": [
        "Make scatter plots of:\n",
        "*    age vs bp (resting blood pressure) \n",
        "*    age vs thalach (max heart rate)\n",
        "    "
      ]
    },
    {
      "cell_type": "code",
      "metadata": {
        "id": "EO93c0UVmyQE",
        "colab": {
          "base_uri": "https://localhost:8080/",
          "height": 282
        },
        "outputId": "164cccea-2e7d-4fe1-bb38-30c2a85ac600"
      },
      "source": [
        "pylab.scatter(age, bp)"
      ],
      "execution_count": 21,
      "outputs": [
        {
          "output_type": "execute_result",
          "data": {
            "text/plain": [
              "<matplotlib.collections.PathCollection at 0x7f907ebe5550>"
            ]
          },
          "metadata": {
            "tags": []
          },
          "execution_count": 21
        },
        {
          "output_type": "display_data",
          "data": {
            "image/png": "[encoded data removed]",
            "text/plain": [
              "<Figure size 432x288 with 1 Axes>"
            ]
          },
          "metadata": {
            "tags": [],
            "needs_background": "light"
          }
        }
      ]
    },
    {
      "cell_type": "code",
      "metadata": {
        "id": "VENkKhyxmyQE",
        "colab": {
          "base_uri": "https://localhost:8080/",
          "height": 282
        },
        "outputId": "d088fd31-634f-4d8b-c28f-1421930a7c1d"
      },
      "source": [
        "maxhr = getcol('thalach')\n",
        "pylab.scatter(age, maxhr)"
      ],
      "execution_count": 22,
      "outputs": [
        {
          "output_type": "execute_result",
          "data": {
            "text/plain": [
              "<matplotlib.collections.PathCollection at 0x7f907e634f28>"
            ]
          },
          "metadata": {
            "tags": []
          },
          "execution_count": 22
        },
        {
          "output_type": "display_data",
          "data": {
            "image/png": "[encoded data removed]",
            "text/plain": [
              "<Figure size 432x288 with 1 Axes>"
            ]
          },
          "metadata": {
            "tags": [],
            "needs_background": "light"
          }
        }
      ]
    },
    {
      "cell_type": "markdown",
      "metadata": {
        "id": "5MxUbqBgmyQE"
      },
      "source": [
        "We can augment the basic scatter plots with other information that might be relevant. In the plot below, we used the 'num' field to color the dots. num is an integer indicating the degree of heart disease from 0...4. We also make the dots larger with the s= argument to make the colors easier to see. "
      ]
    },
    {
      "cell_type": "code",
      "metadata": {
        "id": "TSrlhCBfmyQE",
        "colab": {
          "base_uri": "https://localhost:8080/",
          "height": 282
        },
        "outputId": "9c93a916-5542-4c54-8108-a01c5543a7ec"
      },
      "source": [
        "pylab.scatter(age, bp, c=getcol('num'), s=50)"
      ],
      "execution_count": 23,
      "outputs": [
        {
          "output_type": "execute_result",
          "data": {
            "text/plain": [
              "<matplotlib.collections.PathCollection at 0x7f907e59d0f0>"
            ]
          },
          "metadata": {
            "tags": []
          },
          "execution_count": 23
        },
        {
          "output_type": "display_data",
          "data": {
            "image/png": "[encoded data removed]",
            "text/plain": [
              "<Figure size 432x288 with 1 Axes>"
            ]
          },
          "metadata": {
            "tags": [],
            "needs_background": "light"
          }
        }
      ]
    },
    {
      "cell_type": "markdown",
      "metadata": {
        "id": "OoKQiWzAmyQE"
      },
      "source": [
        "To figure out what color encodes what value, we can do a simple plot of the values 0...4"
      ]
    },
    {
      "cell_type": "code",
      "metadata": {
        "id": "GubL5mZamyQE",
        "colab": {
          "base_uri": "https://localhost:8080/",
          "height": 282
        },
        "outputId": "19e1b484-e01b-4fcb-ec28-31798d1cd710"
      },
      "source": [
        "pylab.scatter(range(5), range(5), c=range(5), s=50)"
      ],
      "execution_count": 24,
      "outputs": [
        {
          "output_type": "execute_result",
          "data": {
            "text/plain": [
              "<matplotlib.collections.PathCollection at 0x7f907e4f8cc0>"
            ]
          },
          "metadata": {
            "tags": []
          },
          "execution_count": 24
        },
        {
          "output_type": "display_data",
          "data": {
            "image/png": "[encoded data removed]",
            "text/plain": [
              "<Figure size 432x288 with 1 Axes>"
            ]
          },
          "metadata": {
            "tags": [],
            "needs_background": "light"
          }
        }
      ]
    },
    {
      "cell_type": "markdown",
      "metadata": {
        "id": "2QCNhnJpmyQE"
      },
      "source": [
        "> TODO: What do you notice about the distribution of num = 2 diagnoses?\n",
        "\n",
        "It means people with medium age (num =2 (green dot)) will have medium number of heart diseases as seen from the graph"
      ]
    },
    {
      "cell_type": "markdown",
      "metadata": {
        "id": "VVNIYtdUmyQE"
      },
      "source": [
        "These scatter plots seem to show trends. To make those clearer we can overlay regression lines. The regression line minimizes the total squared vertical distance from the line to the data points, and shows the general trend for the data. "
      ]
    },
    {
      "cell_type": "code",
      "metadata": {
        "id": "VmykASikmyQE",
        "colab": {
          "base_uri": "https://localhost:8080/",
          "height": 282
        },
        "outputId": "db1ca81a-bc91-4868-a286-4f65b9f1064a"
      },
      "source": [
        "# for numpy we need arrays instead of lists of values\n",
        "age = np.array(getcol('age'))\n",
        "bp = np.array(getcol('trestbps'))\n",
        "\n",
        "pylab.scatter(age, bp)\n",
        "m, b = np.polyfit(age, bp, 1)\n",
        "pylab.plot(age, m*age + b, '-', color='red')"
      ],
      "execution_count": 25,
      "outputs": [
        {
          "output_type": "execute_result",
          "data": {
            "text/plain": [
              "[<matplotlib.lines.Line2D at 0x7f907e4c37b8>]"
            ]
          },
          "metadata": {
            "tags": []
          },
          "execution_count": 25
        },
        {
          "output_type": "display_data",
          "data": {
            "image/png": "[encoded data removed]",
            "text/plain": [
              "<Figure size 432x288 with 1 Axes>"
            ]
          },
          "metadata": {
            "tags": [],
            "needs_background": "light"
          }
        }
      ]
    },
    {
      "cell_type": "code",
      "metadata": {
        "id": "xS8WEDxrmyQE",
        "colab": {
          "base_uri": "https://localhost:8080/",
          "height": 282
        },
        "outputId": "e58e30ec-5303-47fe-e938-735047296278"
      },
      "source": [
        "maxhr = np.array(getcol('thalach'))\n",
        "\n",
        "pylab.scatter(age, maxhr)\n",
        "m, b = np.polyfit(age, maxhr, 1)\n",
        "pylab.plot(age, m*age + b, '-', color='red')"
      ],
      "execution_count": 26,
      "outputs": [
        {
          "output_type": "execute_result",
          "data": {
            "text/plain": [
              "[<matplotlib.lines.Line2D at 0x7f907e4ecfd0>]"
            ]
          },
          "metadata": {
            "tags": []
          },
          "execution_count": 26
        },
        {
          "output_type": "display_data",
          "data": {
            "image/png": "[encoded data removed]",
            "text/plain": [
              "<Figure size 432x288 with 1 Axes>"
            ]
          },
          "metadata": {
            "tags": [],
            "needs_background": "light"
          }
        }
      ]
    },
    {
      "cell_type": "markdown",
      "metadata": {
        "id": "uHmON-jEmyQE"
      },
      "source": [
        "## Critical Thinking with Data"
      ]
    },
    {
      "cell_type": "markdown",
      "metadata": {
        "id": "fHQGGoeKmyQE"
      },
      "source": [
        "The following scatter plot and regression line shows the relationship between blood pressure (X-axis) and heart disease (Y-axis). "
      ]
    },
    {
      "cell_type": "code",
      "metadata": {
        "id": "1DdROKfSmyQE",
        "colab": {
          "base_uri": "https://localhost:8080/",
          "height": 282
        },
        "outputId": "91417a6a-b06e-4af3-adee-8f35d1b9d78a"
      },
      "source": [
        "num = np.array(getcol('num'))\n",
        "factor = bp\n",
        "\n",
        "pylab.scatter(factor, num)\n",
        "m, b = np.polyfit(factor, num, 1)\n",
        "pylab.plot(factor, m*factor + b, '-', color='red')"
      ],
      "execution_count": 27,
      "outputs": [
        {
          "output_type": "execute_result",
          "data": {
            "text/plain": [
              "[<matplotlib.lines.Line2D at 0x7f907e462eb8>]"
            ]
          },
          "metadata": {
            "tags": []
          },
          "execution_count": 27
        },
        {
          "output_type": "display_data",
          "data": {
            "image/png": "[encoded data removed]",
            "text/plain": [
              "<Figure size 432x288 with 1 Axes>"
            ]
          },
          "metadata": {
            "tags": [],
            "needs_background": "light"
          }
        }
      ]
    },
    {
      "cell_type": "markdown",
      "metadata": {
        "id": "dj3fdpI2myQE"
      },
      "source": [
        "> TODO: Based on this plot, do you think blood pressure influences heart disease?\n",
        "\n",
        "Yes, bp influenes heart diseases because There is a positive corelation between bp and heart diseases as shown in the graph. "
      ]
    },
    {
      "cell_type": "markdown",
      "metadata": {
        "id": "HFaEb5oamyQE"
      },
      "source": [
        "Now consider this plot of age versus num:"
      ]
    },
    {
      "cell_type": "code",
      "metadata": {
        "id": "u9CV76TlmyQE",
        "colab": {
          "base_uri": "https://localhost:8080/",
          "height": 282
        },
        "outputId": "1e345830-ce30-4bce-f6f8-ced534439e65"
      },
      "source": [
        "num = np.array(getcol('num'))\n",
        "factor = age\n",
        "\n",
        "pylab.scatter(factor, num)\n",
        "m, b = np.polyfit(factor, num, 1)\n",
        "pylab.plot(factor, m*factor + b, '-', color='red')"
      ],
      "execution_count": 28,
      "outputs": [
        {
          "output_type": "execute_result",
          "data": {
            "text/plain": [
              "[<matplotlib.lines.Line2D at 0x7f907e3f2e10>]"
            ]
          },
          "metadata": {
            "tags": []
          },
          "execution_count": 28
        },
        {
          "output_type": "display_data",
          "data": {
            "image/png": "[encoded data removed]",
            "text/plain": [
              "<Figure size 432x288 with 1 Axes>"
            ]
          },
          "metadata": {
            "tags": [],
            "needs_background": "light"
          }
        }
      ]
    },
    {
      "cell_type": "markdown",
      "metadata": {
        "id": "eUP6LSbPmyQF"
      },
      "source": [
        "> TODO: Based on this plot of Age vs Num and the previous plot of Age vs BPS, what would you say now about the relation between BPS and Num?\n",
        "\n",
        "Yes there is a relation between BPS and num. The realtion is positive corelation"
      ]
    },
    {
      "cell_type": "markdown",
      "metadata": {
        "id": "QCL6LCSgmyQF"
      },
      "source": [
        "## Dimension Reduction"
      ]
    },
    {
      "cell_type": "markdown",
      "metadata": {
        "id": "IW_e_glZmyQF"
      },
      "source": [
        "Recall that dimension reduction allows you to look at the dominant factors in high-dimensional data. Matplotlib includes the PCA function for this purpose. You use it like this:"
      ]
    },
    {
      "cell_type": "code",
      "metadata": {
        "id": "usnQqxklmyQF"
      },
      "source": [
        "from sklearn.decomposition import PCA\n",
        "cleveland_matrix = np.array(cleveland_data, dtype=np.float64) # First put the data in a 2D array of double-precision floats\n",
        "pca=PCA(n_components=2)\n",
        "results = pca.fit(cleveland_matrix[:,0:8])                      # leave out columns with None in them\n",
        "yy = pca.transform(cleveland_matrix[:,0:8])                                              # returns the projections of the data into the principal component directions"
      ],
      "execution_count": 30,
      "outputs": []
    },
    {
      "cell_type": "code",
      "metadata": {
        "id": "oFfcWMOQmyQF",
        "colab": {
          "base_uri": "https://localhost:8080/",
          "height": 282
        },
        "outputId": "1433efa2-bcef-4bc6-ec1c-7f73968a3da4"
      },
      "source": [
        "pylab.scatter(yy[:,0],yy[:,1])"
      ],
      "execution_count": 31,
      "outputs": [
        {
          "output_type": "execute_result",
          "data": {
            "text/plain": [
              "<matplotlib.collections.PathCollection at 0x7f9071294438>"
            ]
          },
          "metadata": {
            "tags": []
          },
          "execution_count": 31
        },
        {
          "output_type": "display_data",
          "data": {
            "image/png": "[encoded data removed]",
            "text/plain": [
              "<Figure size 432x288 with 1 Axes>"
            ]
          },
          "metadata": {
            "tags": [],
            "needs_background": "light"
          }
        }
      ]
    },
    {
      "cell_type": "markdown",
      "metadata": {
        "id": "magarJODmyQF"
      },
      "source": [
        "> TODO: Do you see a relationship between the two main variables (X and Y axes of this plot)?\n",
        "\n",
        "There is a positive corelation between X and Y values. As X value increases Y also increases"
      ]
    },
    {
      "cell_type": "markdown",
      "metadata": {
        "id": "hj5uH7GOmyQF"
      },
      "source": [
        "## Text Data"
      ]
    },
    {
      "cell_type": "markdown",
      "metadata": {
        "id": "1nDstiHRmyQF"
      },
      "source": [
        "Download the NY times Dataset from here\n",
        "https://archive.ics.uci.edu/ml/machine-learning-databases/bag-of-words/docword.nips.txt.gz\n",
        "and save it to your lab2 directory. Unzip the file, producing docword.nips.txt.\n",
        "\n",
        "This file has 3 header lines: num docs, num distinct words, num total words. The following lines represent the documents with three fields:\n",
        "\n",
        "docid wordid wordcount\n",
        "\n",
        "We can read the file with a csv reader:"
      ]
    },
    {
      "cell_type": "code",
      "metadata": {
        "id": "5HcrMGl-myQF"
      },
      "source": [
        "with open(\"docword.nips.txt\") as csvfile:\n",
        "    ndocs = int(csvfile.readline())\n",
        "    nwords = int(csvfile.readline())\n",
        "    nnz = int(csvfile.readline())\n",
        "    nips_raw_data = list(csv.reader(csvfile, delimiter=' '))\n",
        "    \n",
        "nips_data = [[int(x) for x in y] for y in nips_raw_data] # convert from string to numeric data"
      ],
      "execution_count": 33,
      "outputs": []
    },
    {
      "cell_type": "code",
      "metadata": {
        "id": "sFKCBCSVmyQF",
        "colab": {
          "base_uri": "https://localhost:8080/"
        },
        "outputId": "53d4caf1-0490-4ba6-9858-03041fad7869"
      },
      "source": [
        "[ndocs, nwords, nnz]"
      ],
      "execution_count": 34,
      "outputs": [
        {
          "output_type": "execute_result",
          "data": {
            "text/plain": [
              "[1500, 12419, 746316]"
            ]
          },
          "metadata": {
            "tags": []
          },
          "execution_count": 34
        }
      ]
    },
    {
      "cell_type": "markdown",
      "metadata": {
        "id": "VxdmBj4hmyQF"
      },
      "source": [
        "Now we're going to create an array 'counts' containing the counts for each word over all documents. Note that we use 'row[1]-1' as the index. The docword files use 1-based array indexing, but python uses zero-based indexing. "
      ]
    },
    {
      "cell_type": "code",
      "metadata": {
        "id": "qZugj6sWmyQF"
      },
      "source": [
        "counts = [0] * nwords\n",
        "for row in nips_data:\n",
        "    counts[row[1]-1] += row[1] # increment the count for this word by the value in the third column"
      ],
      "execution_count": 37,
      "outputs": []
    },
    {
      "cell_type": "markdown",
      "metadata": {
        "id": "EfzsZPAMmyQF"
      },
      "source": [
        "Next we zip the word index as the first column, and sort this table by word count in descending order."
      ]
    },
    {
      "cell_type": "code",
      "metadata": {
        "id": "SdUTakKTmyQF"
      },
      "source": [
        "import operator\n",
        "wordtab = zip(range(nwords), counts)\n",
        "wordtab=sorted(wordtab,key=lambda x: x[1], reverse=True)"
      ],
      "execution_count": 48,
      "outputs": []
    },
    {
      "cell_type": "markdown",
      "metadata": {
        "id": "CCcJiVT1myQF"
      },
      "source": [
        "The top (first) values in this list are the most frequent word ids (first column), and their counts (second column):"
      ]
    },
    {
      "cell_type": "code",
      "metadata": {
        "id": "g0Ec16fVmyQF",
        "colab": {
          "base_uri": "https://localhost:8080/"
        },
        "outputId": "5865c79b-2350-4351-cb80-a5a8c0f48274"
      },
      "source": [
        "wordtab[0:8]"
      ],
      "execution_count": 49,
      "outputs": [
        {
          "output_type": "execute_result",
          "data": {
            "text/plain": [
              "[(11019, 2104820),\n",
              " (10002, 1750525),\n",
              " (9401, 1720566),\n",
              " (12152, 1677114),\n",
              " (9133, 1653254),\n",
              " (11718, 1628941),\n",
              " (10304, 1514835),\n",
              " (11734, 1502080)]"
            ]
          },
          "metadata": {
            "tags": []
          },
          "execution_count": 49
        }
      ]
    },
    {
      "cell_type": "markdown",
      "metadata": {
        "id": "zLgBft3cmyQF"
      },
      "source": [
        "Now grab the vocabulary file for nips:\n",
        "https://archive.ics.uci.edu/ml/machine-learning-databases/bag-of-words/vocab.nips.txt\n",
        "and save it to lab2.\n",
        "Run the following to load it and create a dictionary (word -> wordid) and inverse dictionary (wordid -> word) from it. "
      ]
    },
    {
      "cell_type": "code",
      "metadata": {
        "id": "TU0fqi7SmyQF"
      },
      "source": [
        "mydict = {}            # word dictionary\n",
        "words = [''] * nwords  # invese dictionary - just an array of strings\n",
        "i = 0\n",
        "with open(\"vocab.nips.txt\") as txtfile:\n",
        "    for line in txtfile:\n",
        "        word = line.rstrip('\\n')\n",
        "        mydict[word] = i\n",
        "        words[i] = word\n",
        "        i += 1"
      ],
      "execution_count": 50,
      "outputs": []
    },
    {
      "cell_type": "markdown",
      "metadata": {
        "id": "P8qE-X8tmyQF"
      },
      "source": [
        "Now we can find the top words using the inverse dictionary:"
      ]
    },
    {
      "cell_type": "code",
      "metadata": {
        "id": "Uy-vWpWJmyQF",
        "colab": {
          "base_uri": "https://localhost:8080/"
        },
        "outputId": "f7bc3521-54af-4122-c037-b8d1f86848eb"
      },
      "source": [
        "topwords = [words[x] for x,y in wordtab[0:10]]\n",
        "topwords"
      ],
      "execution_count": 51,
      "outputs": [
        {
          "output_type": "execute_result",
          "data": {
            "text/plain": [
              "['system',\n",
              " 'set',\n",
              " 'result',\n",
              " 'weight',\n",
              " 'references',\n",
              " 'unit',\n",
              " 'small',\n",
              " 'university',\n",
              " 'simple',\n",
              " 'single']"
            ]
          },
          "metadata": {
            "tags": []
          },
          "execution_count": 51
        }
      ]
    },
    {
      "cell_type": "markdown",
      "metadata": {
        "id": "OUKO4FhOmyQF"
      },
      "source": [
        "> TODO: What do you think is the topic of the NIPS dataset?"
      ]
    },
    {
      "cell_type": "markdown",
      "metadata": {
        "id": "j0XguBzumyQF"
      },
      "source": [
        "Finally, we can plot the counts words in rank order (decreasing order of frequency)."
      ]
    },
    {
      "cell_type": "code",
      "metadata": {
        "id": "QRcVZ2EEmyQF",
        "colab": {
          "base_uri": "https://localhost:8080/",
          "height": 293
        },
        "outputId": "51ad8e6d-f9e4-41a6-84e0-d4f78a6dab79"
      },
      "source": [
        "scounts = [y for x,y in wordtab]\n",
        "pylab.plot(scounts)"
      ],
      "execution_count": 52,
      "outputs": [
        {
          "output_type": "execute_result",
          "data": {
            "text/plain": [
              "[<matplotlib.lines.Line2D at 0x7f906efc4898>]"
            ]
          },
          "metadata": {
            "tags": []
          },
          "execution_count": 52
        },
        {
          "output_type": "display_data",
          "data": {
            "image/png": "[encoded data removed]",
            "text/plain": [
              "<Figure size 432x288 with 1 Axes>"
            ]
          },
          "metadata": {
            "tags": [],
            "needs_background": "light"
          }
        }
      ]
    },
    {
      "cell_type": "markdown",
      "metadata": {
        "id": "KnwkYSramyQF"
      },
      "source": [
        "What form does this curve have?\n",
        "To make it clearer, lets to a log-log plot."
      ]
    },
    {
      "cell_type": "code",
      "metadata": {
        "id": "Xlf7aW1mmyQF",
        "colab": {
          "base_uri": "https://localhost:8080/",
          "height": 286
        },
        "outputId": "8aa108e3-f0ee-48ed-ed19-78102b605b42"
      },
      "source": [
        "pylab.loglog(scounts)"
      ],
      "execution_count": 53,
      "outputs": [
        {
          "output_type": "execute_result",
          "data": {
            "text/plain": [
              "[<matplotlib.lines.Line2D at 0x7f906ef70cf8>]"
            ]
          },
          "metadata": {
            "tags": []
          },
          "execution_count": 53
        },
        {
          "output_type": "display_data",
          "data": {
            "image/png": "[encoded data removed]",
            "text/plain": [
              "<Figure size 432x288 with 1 Axes>"
            ]
          },
          "metadata": {
            "tags": [],
            "needs_background": "light"
          }
        }
      ]
    },
    {
      "cell_type": "markdown",
      "metadata": {
        "id": "UVW5ZKt0myQF"
      },
      "source": [
        "> TODO: What is the approximate slope (in log-log space) of this curve over the frequency range 10^1 to 10^3 ?\n",
        "\n",
        "It is linearly decreasing. Use the formula (y2-y1) / (x2-x1)"
      ]
    },
    {
      "cell_type": "markdown",
      "metadata": {
        "id": "f4K6_u8emyQF"
      },
      "source": [
        "## Lab 2 Responses"
      ]
    },
    {
      "cell_type": "markdown",
      "metadata": {
        "id": "bxbqFoKrmyQF"
      },
      "source": [
        "The lab 2 responses should be entered here:\n",
        "https://bcourses.berkeley.edu/courses/1377158/quizzes/2045090"
      ]
    }
  ]
}