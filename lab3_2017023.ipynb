{
  "nbformat": 4,
  "nbformat_minor": 0,
  "metadata": {
    "kernelspec": {
      "display_name": "Python 3",
      "language": "python",
      "name": "python3"
    },
    "language_info": {
      "codemirror_mode": {
        "name": "ipython",
        "version": 3
      },
      "file_extension": ".py",
      "mimetype": "text/x-python",
      "name": "python",
      "nbconvert_exporter": "python",
      "pygments_lexer": "ipython3",
      "version": "3.8.3"
    },
    "colab": {
      "name": "lab3.ipynb",
      "provenance": []
    }
  },
  "cells": [
    {
      "cell_type": "markdown",
      "metadata": {
        "id": "tXRtfhimK04J"
      },
      "source": [
        "# Lab 3 Tabular data processing with Pandas"
      ]
    },
    {
      "cell_type": "markdown",
      "metadata": {
        "id": "3-LSXsI9K04W"
      },
      "source": [
        "In this lab exercise we will look at how to work with data stored in a tabular form and perform exploratory data analysis on it. We will be using the Python Data Analysis Library (aka Pandas) to do this."
      ]
    },
    {
      "cell_type": "markdown",
      "metadata": {
        "id": "ChboPWTsK04X"
      },
      "source": [
        "## Introducting Pandas"
      ]
    },
    {
      "cell_type": "markdown",
      "metadata": {
        "id": "y_QvhNQ5K04Y"
      },
      "source": [
        "The two main data structures that Pandas supports are Series and DataFrames. Series are one-dimensional data structures that are a collection of any numpy data type. DataFrames on the other hand are two dimensional data structures which resemble a database table or say an Excel spreadsheet. In this lab we will primarily be using DataFrames and will look at operations that we can perform using them.\n",
        "\n",
        "Before you start, download <a href=\"https://raw.github.com/biddata/datascience/master/F15/lab3/data/wc_day6_1_sample.tar.bz2\">this file</a> of world cup data into the same directory as this notebook (e.g. /home/datascience/lab3) and untar it.\n",
        "\n",
        "\n",
        "Also Download this restaurant dataset from <a href=\"https://raw.github.com/biddata/datascience/master/F15/lab3/data/restaurants.csv\">here</a>. Put the data file, \"restaurants.csv\", in the same directory as this notebook."
      ]
    },
    {
      "cell_type": "code",
      "metadata": {
        "id": "f_VNWNW2K04Z"
      },
      "source": [
        "from pylab import *\n",
        "%matplotlib inline\n",
        "import pandas as pd\n",
        "df = pd.DataFrame( { 'a' : [1, 2, 3, 4], 'b': [ 'w', 'x', 'y', 'z'] })"
      ],
      "execution_count": 1,
      "outputs": []
    },
    {
      "cell_type": "markdown",
      "metadata": {
        "id": "n2vUN9vBK04Z"
      },
      "source": [
        "If you need clarifications about the Pandas API you can type the function name followed by ? to get inline help. For example to get help with the above call run:"
      ]
    },
    {
      "cell_type": "code",
      "metadata": {
        "id": "dJd1Gc_EK04a"
      },
      "source": [
        "pd.DataFrame?"
      ],
      "execution_count": 2,
      "outputs": []
    },
    {
      "cell_type": "markdown",
      "metadata": {
        "id": "OHXh14iJK04a"
      },
      "source": [
        "If you want to see the same in a browser lookup the function in the <a href=\"http://pandas.pydata.org/pandas-docs/stable/api.html\">API documentation</a>"
      ]
    },
    {
      "cell_type": "markdown",
      "metadata": {
        "id": "DV05RlsNK04b"
      },
      "source": [
        "## DataFrame Basics"
      ]
    },
    {
      "cell_type": "markdown",
      "metadata": {
        "id": "Djd_bw8qK04b"
      },
      "source": [
        "The simplest way to see what is in a DataFrame is to just print it to the console. For example to see the DataFrame we created before you can just type df and see something like"
      ]
    },
    {
      "cell_type": "code",
      "metadata": {
        "colab": {
          "base_uri": "https://localhost:8080/",
          "height": 162
        },
        "id": "aexfloyOK04c",
        "outputId": "697edc00-4d37-4285-c19b-3d6bc72b7641"
      },
      "source": [
        "df"
      ],
      "execution_count": 3,
      "outputs": [
        {
          "output_type": "execute_result",
          "data": {
            "text/html": [
              "<div>\n",
              "<style scoped>\n",
              "    .dataframe tbody tr th:only-of-type {\n",
              "        vertical-align: middle;\n",
              "    }\n",
              "\n",
              "    .dataframe tbody tr th {\n",
              "        vertical-align: top;\n",
              "    }\n",
              "\n",
              "    .dataframe thead th {\n",
              "        text-align: right;\n",
              "    }\n",
              "</style>\n",
              "<table border=\"1\" class=\"dataframe\">\n",
              "  <thead>\n",
              "    <tr style=\"text-align: right;\">\n",
              "      <th></th>\n",
              "      <th>a</th>\n",
              "      <th>b</th>\n",
              "    </tr>\n",
              "  </thead>\n",
              "  <tbody>\n",
              "    <tr>\n",
              "      <th>0</th>\n",
              "      <td>1</td>\n",
              "      <td>w</td>\n",
              "    </tr>\n",
              "    <tr>\n",
              "      <th>1</th>\n",
              "      <td>2</td>\n",
              "      <td>x</td>\n",
              "    </tr>\n",
              "    <tr>\n",
              "      <th>2</th>\n",
              "      <td>3</td>\n",
              "      <td>y</td>\n",
              "    </tr>\n",
              "    <tr>\n",
              "      <th>3</th>\n",
              "      <td>4</td>\n",
              "      <td>z</td>\n",
              "    </tr>\n",
              "  </tbody>\n",
              "</table>\n",
              "</div>"
            ],
            "text/plain": [
              "   a  b\n",
              "0  1  w\n",
              "1  2  x\n",
              "2  3  y\n",
              "3  4  z"
            ]
          },
          "metadata": {
            "tags": []
          },
          "execution_count": 3
        }
      ]
    },
    {
      "cell_type": "markdown",
      "metadata": {
        "id": "W_r0XyJPK04c"
      },
      "source": [
        "This shows that we have two columnns 'a' and 'b' and four rows in our DataFrame.\n",
        "\n",
        "However large DataFrames cannot be printed to the console and we have higher level commands to inspect its contents. To get information on the schema of the DataFrames, we can use the info function"
      ]
    },
    {
      "cell_type": "code",
      "metadata": {
        "colab": {
          "base_uri": "https://localhost:8080/"
        },
        "id": "mveL5BY8K04c",
        "outputId": "1912539f-ca03-4d52-8529-0f0407d69eac"
      },
      "source": [
        "df.info()"
      ],
      "execution_count": 4,
      "outputs": [
        {
          "output_type": "stream",
          "text": [
            "<class 'pandas.core.frame.DataFrame'>\n",
            "RangeIndex: 4 entries, 0 to 3\n",
            "Data columns (total 2 columns):\n",
            " #   Column  Non-Null Count  Dtype \n",
            "---  ------  --------------  ----- \n",
            " 0   a       4 non-null      int64 \n",
            " 1   b       4 non-null      object\n",
            "dtypes: int64(1), object(1)\n",
            "memory usage: 192.0+ bytes\n"
          ],
          "name": "stdout"
        }
      ]
    },
    {
      "cell_type": "markdown",
      "metadata": {
        "id": "rJded-csK04d"
      },
      "source": [
        "To see the first few rows you can use <code>head</code> and to see the last few rows you can use <code>tail</code>. This is similar to the UNIX-command line tools"
      ]
    },
    {
      "cell_type": "code",
      "metadata": {
        "colab": {
          "base_uri": "https://localhost:8080/",
          "height": 105
        },
        "id": "41XLQsFoK04d",
        "outputId": "8c63043e-56cd-4d18-fca1-d03a34dba6d5"
      },
      "source": [
        "df.head(2)"
      ],
      "execution_count": 5,
      "outputs": [
        {
          "output_type": "execute_result",
          "data": {
            "text/html": [
              "<div>\n",
              "<style scoped>\n",
              "    .dataframe tbody tr th:only-of-type {\n",
              "        vertical-align: middle;\n",
              "    }\n",
              "\n",
              "    .dataframe tbody tr th {\n",
              "        vertical-align: top;\n",
              "    }\n",
              "\n",
              "    .dataframe thead th {\n",
              "        text-align: right;\n",
              "    }\n",
              "</style>\n",
              "<table border=\"1\" class=\"dataframe\">\n",
              "  <thead>\n",
              "    <tr style=\"text-align: right;\">\n",
              "      <th></th>\n",
              "      <th>a</th>\n",
              "      <th>b</th>\n",
              "    </tr>\n",
              "  </thead>\n",
              "  <tbody>\n",
              "    <tr>\n",
              "      <th>0</th>\n",
              "      <td>1</td>\n",
              "      <td>w</td>\n",
              "    </tr>\n",
              "    <tr>\n",
              "      <th>1</th>\n",
              "      <td>2</td>\n",
              "      <td>x</td>\n",
              "    </tr>\n",
              "  </tbody>\n",
              "</table>\n",
              "</div>"
            ],
            "text/plain": [
              "   a  b\n",
              "0  1  w\n",
              "1  2  x"
            ]
          },
          "metadata": {
            "tags": []
          },
          "execution_count": 5
        }
      ]
    },
    {
      "cell_type": "markdown",
      "metadata": {
        "id": "vy62aVBAK04d"
      },
      "source": [
        "To print any range of rows from the DataFrame you can use array-like indexing of row ids. As you might have noticed rows are numbered from 0 in Pandas, so to get the middle two rows we can use the range 1:3"
      ]
    },
    {
      "cell_type": "code",
      "metadata": {
        "colab": {
          "base_uri": "https://localhost:8080/",
          "height": 105
        },
        "id": "em88X1KoK04e",
        "outputId": "6c150fb6-e024-45bb-cd1c-8fd6ecaf2a61"
      },
      "source": [
        "df[1:3]"
      ],
      "execution_count": 6,
      "outputs": [
        {
          "output_type": "execute_result",
          "data": {
            "text/html": [
              "<div>\n",
              "<style scoped>\n",
              "    .dataframe tbody tr th:only-of-type {\n",
              "        vertical-align: middle;\n",
              "    }\n",
              "\n",
              "    .dataframe tbody tr th {\n",
              "        vertical-align: top;\n",
              "    }\n",
              "\n",
              "    .dataframe thead th {\n",
              "        text-align: right;\n",
              "    }\n",
              "</style>\n",
              "<table border=\"1\" class=\"dataframe\">\n",
              "  <thead>\n",
              "    <tr style=\"text-align: right;\">\n",
              "      <th></th>\n",
              "      <th>a</th>\n",
              "      <th>b</th>\n",
              "    </tr>\n",
              "  </thead>\n",
              "  <tbody>\n",
              "    <tr>\n",
              "      <th>1</th>\n",
              "      <td>2</td>\n",
              "      <td>x</td>\n",
              "    </tr>\n",
              "    <tr>\n",
              "      <th>2</th>\n",
              "      <td>3</td>\n",
              "      <td>y</td>\n",
              "    </tr>\n",
              "  </tbody>\n",
              "</table>\n",
              "</div>"
            ],
            "text/plain": [
              "   a  b\n",
              "1  2  x\n",
              "2  3  y"
            ]
          },
          "metadata": {
            "tags": []
          },
          "execution_count": 6
        }
      ]
    },
    {
      "cell_type": "markdown",
      "metadata": {
        "id": "6jnTkbG-K04e"
      },
      "source": [
        "Finally, Pandas also has a useful function describe that summarizes the contents of numerical columns in a DataFrame. For example in df we can see the mean, standard deviation etc. for the column a by running describe."
      ]
    },
    {
      "cell_type": "markdown",
      "metadata": {
        "id": "nlX7cQGoK04e"
      },
      "source": [
        "Having worked our way through the basics, lets now see how we can use Pandas for data analysis. To do this part of the lab we will use the World Cup soccer logs in csv format."
      ]
    },
    {
      "cell_type": "code",
      "metadata": {
        "colab": {
          "base_uri": "https://localhost:8080/",
          "height": 191
        },
        "id": "E2skb3xNK04f",
        "outputId": "25d02490-5898-4bf5-fce9-ed8510d28586"
      },
      "source": [
        "log_df = pd.read_csv(\"wc_day6_1_sample.csv\",\n",
        "                     names=['ClientID', 'Date', 'Time', 'URL', 'ResponseCode', 'Size'],\n",
        "                     na_values=['-'],encoding= 'unicode_escape')\n",
        "log_df.head()"
      ],
      "execution_count": 7,
      "outputs": [
        {
          "output_type": "execute_result",
          "data": {
            "text/html": [
              "<div>\n",
              "<style scoped>\n",
              "    .dataframe tbody tr th:only-of-type {\n",
              "        vertical-align: middle;\n",
              "    }\n",
              "\n",
              "    .dataframe tbody tr th {\n",
              "        vertical-align: top;\n",
              "    }\n",
              "\n",
              "    .dataframe thead th {\n",
              "        text-align: right;\n",
              "    }\n",
              "</style>\n",
              "<table border=\"1\" class=\"dataframe\">\n",
              "  <thead>\n",
              "    <tr style=\"text-align: right;\">\n",
              "      <th></th>\n",
              "      <th>ClientID</th>\n",
              "      <th>Date</th>\n",
              "      <th>Time</th>\n",
              "      <th>URL</th>\n",
              "      <th>ResponseCode</th>\n",
              "      <th>Size</th>\n",
              "    </tr>\n",
              "  </thead>\n",
              "  <tbody>\n",
              "    <tr>\n",
              "      <th>0</th>\n",
              "      <td>1044</td>\n",
              "      <td>30/Apr/1998</td>\n",
              "      <td>22:46:12</td>\n",
              "      <td>/images/11104.gif</td>\n",
              "      <td>200.0</td>\n",
              "      <td>508.0</td>\n",
              "    </tr>\n",
              "    <tr>\n",
              "      <th>1</th>\n",
              "      <td>10871</td>\n",
              "      <td>01/May/1998</td>\n",
              "      <td>12:10:53</td>\n",
              "      <td>/images/ligne.gif</td>\n",
              "      <td>200.0</td>\n",
              "      <td>169.0</td>\n",
              "    </tr>\n",
              "    <tr>\n",
              "      <th>2</th>\n",
              "      <td>11012</td>\n",
              "      <td>01/May/1998</td>\n",
              "      <td>12:17:30</td>\n",
              "      <td>/english/individuals/player111503.htm</td>\n",
              "      <td>200.0</td>\n",
              "      <td>7027.0</td>\n",
              "    </tr>\n",
              "    <tr>\n",
              "      <th>3</th>\n",
              "      <td>11435</td>\n",
              "      <td>01/May/1998</td>\n",
              "      <td>13:15:13</td>\n",
              "      <td>/french/frntpage.htm</td>\n",
              "      <td>304.0</td>\n",
              "      <td>0.0</td>\n",
              "    </tr>\n",
              "    <tr>\n",
              "      <th>4</th>\n",
              "      <td>12128</td>\n",
              "      <td>01/May/1998</td>\n",
              "      <td>13:30:21</td>\n",
              "      <td>/english/images/nav_sitemap_off.gif</td>\n",
              "      <td>304.0</td>\n",
              "      <td>NaN</td>\n",
              "    </tr>\n",
              "  </tbody>\n",
              "</table>\n",
              "</div>"
            ],
            "text/plain": [
              "   ClientID         Date  ... ResponseCode    Size\n",
              "0      1044  30/Apr/1998  ...        200.0   508.0\n",
              "1     10871  01/May/1998  ...        200.0   169.0\n",
              "2     11012  01/May/1998  ...        200.0  7027.0\n",
              "3     11435  01/May/1998  ...        304.0     0.0\n",
              "4     12128  01/May/1998  ...        304.0     NaN\n",
              "\n",
              "[5 rows x 6 columns]"
            ]
          },
          "metadata": {
            "tags": []
          },
          "execution_count": 7
        }
      ]
    },
    {
      "cell_type": "markdown",
      "metadata": {
        "id": "U3rGsOL7K04f"
      },
      "source": [
        "The names argument tells Pandas what the column names are in our file and na_values indicates what character is used for missing values in our dataset. Use the commands from the previous section to explore the dataset and its summary statistics.\n",
        "\n",
        "> TODO:\n",
        "\n",
        "    How many rows are present in log_df ?\n",
        "    What are the URLs between rows 85 and 87 inclusive ?\n"
      ]
    },
    {
      "cell_type": "code",
      "metadata": {
        "colab": {
          "base_uri": "https://localhost:8080/"
        },
        "id": "gB56MmMMMa58",
        "outputId": "ec812c83-36d2-4afc-c266-0122e7b6d6ad"
      },
      "source": [
        "len(log_df)"
      ],
      "execution_count": 8,
      "outputs": [
        {
          "output_type": "execute_result",
          "data": {
            "text/plain": [
              "133917"
            ]
          },
          "metadata": {
            "tags": []
          },
          "execution_count": 8
        }
      ]
    },
    {
      "cell_type": "code",
      "metadata": {
        "colab": {
          "base_uri": "https://localhost:8080/"
        },
        "id": "HJt2qm3yMabr",
        "outputId": "aa2c70f6-972d-4667-a4a2-d3e8cf16e63a"
      },
      "source": [
        "log_df['URL'][85:87]"
      ],
      "execution_count": 10,
      "outputs": [
        {
          "output_type": "execute_result",
          "data": {
            "text/plain": [
              "85    /english/nav_top_inet.html\n",
              "86       /images/teams_hm_bg.jpg\n",
              "Name: URL, dtype: object"
            ]
          },
          "metadata": {
            "tags": []
          },
          "execution_count": 10
        }
      ]
    },
    {
      "cell_type": "markdown",
      "metadata": {
        "id": "BMUiKfoIK04g"
      },
      "source": [
        "## SQL-like operators"
      ]
    },
    {
      "cell_type": "markdown",
      "metadata": {
        "id": "mBW0CRgoK04g"
      },
      "source": [
        "Next we will look at operators in Pandas that allow us to perform SQL-like queries on the dataset."
      ]
    },
    {
      "cell_type": "markdown",
      "metadata": {
        "id": "NR05EB1QK04g"
      },
      "source": [
        "### Selection"
      ]
    },
    {
      "cell_type": "markdown",
      "metadata": {
        "id": "Cyt3XMarK04g"
      },
      "source": [
        "A SQL statement typically selects a subset of rows from a table that match a given criteria. This is known as the Selection operator in Relational Algebra. Similarly we can perform selections in Pandas using boolean indexing.\n",
        "\n",
        "Boolean indexing refers to a technique where you can use a list of boolean values to filter a DataFrame. For example lets say we only want entries from '01/May/1998'. To do this we can create a boolean list like"
      ]
    },
    {
      "cell_type": "code",
      "metadata": {
        "colab": {
          "base_uri": "https://localhost:8080/"
        },
        "id": "a-6z9cr-K04h",
        "outputId": "f0ae5f25-25b2-41ea-b16c-8a09dfe41de9"
      },
      "source": [
        "is_may1st = log_df['Date'] == '01/May/1998'\n",
        "is_may1st.head(2)"
      ],
      "execution_count": 11,
      "outputs": [
        {
          "output_type": "execute_result",
          "data": {
            "text/plain": [
              "0    False\n",
              "1     True\n",
              "Name: Date, dtype: bool"
            ]
          },
          "metadata": {
            "tags": []
          },
          "execution_count": 11
        }
      ]
    },
    {
      "cell_type": "markdown",
      "metadata": {
        "id": "nyqWLxe5K04h"
      },
      "source": [
        "Now we can filter our DataFrame by passing it the boolean list."
      ]
    },
    {
      "cell_type": "code",
      "metadata": {
        "colab": {
          "base_uri": "https://localhost:8080/",
          "height": 191
        },
        "id": "NK8km5D4K04h",
        "outputId": "a6fe0b5f-e370-4199-8343-cbc1f56561ff"
      },
      "source": [
        "may1_df = log_df[is_may1st]\n",
        "may1_df.head()"
      ],
      "execution_count": 12,
      "outputs": [
        {
          "output_type": "execute_result",
          "data": {
            "text/html": [
              "<div>\n",
              "<style scoped>\n",
              "    .dataframe tbody tr th:only-of-type {\n",
              "        vertical-align: middle;\n",
              "    }\n",
              "\n",
              "    .dataframe tbody tr th {\n",
              "        vertical-align: top;\n",
              "    }\n",
              "\n",
              "    .dataframe thead th {\n",
              "        text-align: right;\n",
              "    }\n",
              "</style>\n",
              "<table border=\"1\" class=\"dataframe\">\n",
              "  <thead>\n",
              "    <tr style=\"text-align: right;\">\n",
              "      <th></th>\n",
              "      <th>ClientID</th>\n",
              "      <th>Date</th>\n",
              "      <th>Time</th>\n",
              "      <th>URL</th>\n",
              "      <th>ResponseCode</th>\n",
              "      <th>Size</th>\n",
              "    </tr>\n",
              "  </thead>\n",
              "  <tbody>\n",
              "    <tr>\n",
              "      <th>1</th>\n",
              "      <td>10871</td>\n",
              "      <td>01/May/1998</td>\n",
              "      <td>12:10:53</td>\n",
              "      <td>/images/ligne.gif</td>\n",
              "      <td>200.0</td>\n",
              "      <td>169.0</td>\n",
              "    </tr>\n",
              "    <tr>\n",
              "      <th>2</th>\n",
              "      <td>11012</td>\n",
              "      <td>01/May/1998</td>\n",
              "      <td>12:17:30</td>\n",
              "      <td>/english/individuals/player111503.htm</td>\n",
              "      <td>200.0</td>\n",
              "      <td>7027.0</td>\n",
              "    </tr>\n",
              "    <tr>\n",
              "      <th>3</th>\n",
              "      <td>11435</td>\n",
              "      <td>01/May/1998</td>\n",
              "      <td>13:15:13</td>\n",
              "      <td>/french/frntpage.htm</td>\n",
              "      <td>304.0</td>\n",
              "      <td>0.0</td>\n",
              "    </tr>\n",
              "    <tr>\n",
              "      <th>4</th>\n",
              "      <td>12128</td>\n",
              "      <td>01/May/1998</td>\n",
              "      <td>13:30:21</td>\n",
              "      <td>/english/images/nav_sitemap_off.gif</td>\n",
              "      <td>304.0</td>\n",
              "      <td>NaN</td>\n",
              "    </tr>\n",
              "    <tr>\n",
              "      <th>5</th>\n",
              "      <td>13649</td>\n",
              "      <td>01/May/1998</td>\n",
              "      <td>14:55:01</td>\n",
              "      <td>/images/hm_anime_e.gif</td>\n",
              "      <td>200.0</td>\n",
              "      <td>15609.0</td>\n",
              "    </tr>\n",
              "  </tbody>\n",
              "</table>\n",
              "</div>"
            ],
            "text/plain": [
              "   ClientID         Date  ... ResponseCode     Size\n",
              "1     10871  01/May/1998  ...        200.0    169.0\n",
              "2     11012  01/May/1998  ...        200.0   7027.0\n",
              "3     11435  01/May/1998  ...        304.0      0.0\n",
              "4     12128  01/May/1998  ...        304.0      NaN\n",
              "5     13649  01/May/1998  ...        200.0  15609.0\n",
              "\n",
              "[5 rows x 6 columns]"
            ]
          },
          "metadata": {
            "tags": []
          },
          "execution_count": 12
        }
      ]
    },
    {
      "cell_type": "markdown",
      "metadata": {
        "id": "0HRT-FPRK04i"
      },
      "source": [
        "Or we can directly do this by passing in the boolean clause to the DataFrame"
      ]
    },
    {
      "cell_type": "code",
      "metadata": {
        "colab": {
          "base_uri": "https://localhost:8080/",
          "height": 191
        },
        "id": "NdcKD_08K04i",
        "outputId": "0300507e-2be8-471a-97c9-579189fc2d33"
      },
      "source": [
        "may1_df = log_df[log_df['Date'] == '01/May/1998']\n",
        "may1_df.head()"
      ],
      "execution_count": 13,
      "outputs": [
        {
          "output_type": "execute_result",
          "data": {
            "text/html": [
              "<div>\n",
              "<style scoped>\n",
              "    .dataframe tbody tr th:only-of-type {\n",
              "        vertical-align: middle;\n",
              "    }\n",
              "\n",
              "    .dataframe tbody tr th {\n",
              "        vertical-align: top;\n",
              "    }\n",
              "\n",
              "    .dataframe thead th {\n",
              "        text-align: right;\n",
              "    }\n",
              "</style>\n",
              "<table border=\"1\" class=\"dataframe\">\n",
              "  <thead>\n",
              "    <tr style=\"text-align: right;\">\n",
              "      <th></th>\n",
              "      <th>ClientID</th>\n",
              "      <th>Date</th>\n",
              "      <th>Time</th>\n",
              "      <th>URL</th>\n",
              "      <th>ResponseCode</th>\n",
              "      <th>Size</th>\n",
              "    </tr>\n",
              "  </thead>\n",
              "  <tbody>\n",
              "    <tr>\n",
              "      <th>1</th>\n",
              "      <td>10871</td>\n",
              "      <td>01/May/1998</td>\n",
              "      <td>12:10:53</td>\n",
              "      <td>/images/ligne.gif</td>\n",
              "      <td>200.0</td>\n",
              "      <td>169.0</td>\n",
              "    </tr>\n",
              "    <tr>\n",
              "      <th>2</th>\n",
              "      <td>11012</td>\n",
              "      <td>01/May/1998</td>\n",
              "      <td>12:17:30</td>\n",
              "      <td>/english/individuals/player111503.htm</td>\n",
              "      <td>200.0</td>\n",
              "      <td>7027.0</td>\n",
              "    </tr>\n",
              "    <tr>\n",
              "      <th>3</th>\n",
              "      <td>11435</td>\n",
              "      <td>01/May/1998</td>\n",
              "      <td>13:15:13</td>\n",
              "      <td>/french/frntpage.htm</td>\n",
              "      <td>304.0</td>\n",
              "      <td>0.0</td>\n",
              "    </tr>\n",
              "    <tr>\n",
              "      <th>4</th>\n",
              "      <td>12128</td>\n",
              "      <td>01/May/1998</td>\n",
              "      <td>13:30:21</td>\n",
              "      <td>/english/images/nav_sitemap_off.gif</td>\n",
              "      <td>304.0</td>\n",
              "      <td>NaN</td>\n",
              "    </tr>\n",
              "    <tr>\n",
              "      <th>5</th>\n",
              "      <td>13649</td>\n",
              "      <td>01/May/1998</td>\n",
              "      <td>14:55:01</td>\n",
              "      <td>/images/hm_anime_e.gif</td>\n",
              "      <td>200.0</td>\n",
              "      <td>15609.0</td>\n",
              "    </tr>\n",
              "  </tbody>\n",
              "</table>\n",
              "</div>"
            ],
            "text/plain": [
              "   ClientID         Date  ... ResponseCode     Size\n",
              "1     10871  01/May/1998  ...        200.0    169.0\n",
              "2     11012  01/May/1998  ...        200.0   7027.0\n",
              "3     11435  01/May/1998  ...        304.0      0.0\n",
              "4     12128  01/May/1998  ...        304.0      NaN\n",
              "5     13649  01/May/1998  ...        200.0  15609.0\n",
              "\n",
              "[5 rows x 6 columns]"
            ]
          },
          "metadata": {
            "tags": []
          },
          "execution_count": 13
        }
      ]
    },
    {
      "cell_type": "markdown",
      "metadata": {
        "id": "GPBM0cBRK04i"
      },
      "source": [
        "## Projection"
      ]
    },
    {
      "cell_type": "markdown",
      "metadata": {
        "id": "70xo7t_yK04j"
      },
      "source": [
        "While selection is used for filtering rows, <a href=\"http://en.wikipedia.org/wiki/Projection_%28relational_algebra%29\">projection</a> is the relational algebra operator used to select columns. To do this with Pandas we just need to pass in a list of columns that we wish to select. For example to only keep the 'URL' and 'ResponseCode' column we would run"
      ]
    },
    {
      "cell_type": "code",
      "metadata": {
        "colab": {
          "base_uri": "https://localhost:8080/",
          "height": 191
        },
        "id": "AXc-804EK04j",
        "outputId": "fc63428b-2c50-4ef7-9604-4e3c0f458fb2"
      },
      "source": [
        "url_codes = log_df[['URL', 'ResponseCode']]\n",
        "url_codes.head(5)"
      ],
      "execution_count": 14,
      "outputs": [
        {
          "output_type": "execute_result",
          "data": {
            "text/html": [
              "<div>\n",
              "<style scoped>\n",
              "    .dataframe tbody tr th:only-of-type {\n",
              "        vertical-align: middle;\n",
              "    }\n",
              "\n",
              "    .dataframe tbody tr th {\n",
              "        vertical-align: top;\n",
              "    }\n",
              "\n",
              "    .dataframe thead th {\n",
              "        text-align: right;\n",
              "    }\n",
              "</style>\n",
              "<table border=\"1\" class=\"dataframe\">\n",
              "  <thead>\n",
              "    <tr style=\"text-align: right;\">\n",
              "      <th></th>\n",
              "      <th>URL</th>\n",
              "      <th>ResponseCode</th>\n",
              "    </tr>\n",
              "  </thead>\n",
              "  <tbody>\n",
              "    <tr>\n",
              "      <th>0</th>\n",
              "      <td>/images/11104.gif</td>\n",
              "      <td>200.0</td>\n",
              "    </tr>\n",
              "    <tr>\n",
              "      <th>1</th>\n",
              "      <td>/images/ligne.gif</td>\n",
              "      <td>200.0</td>\n",
              "    </tr>\n",
              "    <tr>\n",
              "      <th>2</th>\n",
              "      <td>/english/individuals/player111503.htm</td>\n",
              "      <td>200.0</td>\n",
              "    </tr>\n",
              "    <tr>\n",
              "      <th>3</th>\n",
              "      <td>/french/frntpage.htm</td>\n",
              "      <td>304.0</td>\n",
              "    </tr>\n",
              "    <tr>\n",
              "      <th>4</th>\n",
              "      <td>/english/images/nav_sitemap_off.gif</td>\n",
              "      <td>304.0</td>\n",
              "    </tr>\n",
              "  </tbody>\n",
              "</table>\n",
              "</div>"
            ],
            "text/plain": [
              "                                     URL  ResponseCode\n",
              "0                      /images/11104.gif         200.0\n",
              "1                      /images/ligne.gif         200.0\n",
              "2  /english/individuals/player111503.htm         200.0\n",
              "3                   /french/frntpage.htm         304.0\n",
              "4    /english/images/nav_sitemap_off.gif         304.0"
            ]
          },
          "metadata": {
            "tags": []
          },
          "execution_count": 14
        }
      ]
    },
    {
      "cell_type": "markdown",
      "metadata": {
        "id": "Z0g53pRBK04j"
      },
      "source": [
        "## Grouping"
      ]
    },
    {
      "cell_type": "markdown",
      "metadata": {
        "id": "-eGWKfrMK04j"
      },
      "source": [
        "Pandas also allows you to group the DataFrame by values in any column. For example to group requests by 'ResponseCode' you can run"
      ]
    },
    {
      "cell_type": "code",
      "metadata": {
        "colab": {
          "base_uri": "https://localhost:8080/"
        },
        "id": "vkYcoujxK04k",
        "outputId": "94b9fa51-a6a3-43a1-beb7-f1dd36d3d6e1"
      },
      "source": [
        "grouped = log_df.groupby('ResponseCode')\n",
        "grouped"
      ],
      "execution_count": 15,
      "outputs": [
        {
          "output_type": "execute_result",
          "data": {
            "text/plain": [
              "<pandas.core.groupby.generic.DataFrameGroupBy object at 0x7f2f84471c50>"
            ]
          },
          "metadata": {
            "tags": []
          },
          "execution_count": 15
        }
      ]
    },
    {
      "cell_type": "markdown",
      "metadata": {
        "id": "rUZAxNx_K04k"
      },
      "source": [
        "As you can see from the output above, grouped is not a DataFrame but an object of type DataFrameGroupBy. This just means that it contains a number of groups and each group is in turn a DataFrame. To see this try"
      ]
    },
    {
      "cell_type": "code",
      "metadata": {
        "colab": {
          "base_uri": "https://localhost:8080/"
        },
        "id": "8HWe9tS2K04k",
        "outputId": "527ac740-1400-4e17-bfd3-4ae51582240a"
      },
      "source": [
        "grouped.ngroups\n",
        "grouped.groups.keys()"
      ],
      "execution_count": 16,
      "outputs": [
        {
          "output_type": "execute_result",
          "data": {
            "text/plain": [
              "dict_keys([200.0, 206.0, 302.0, 304.0, 400.0, 404.0, 500.0])"
            ]
          },
          "metadata": {
            "tags": []
          },
          "execution_count": 16
        }
      ]
    },
    {
      "cell_type": "code",
      "metadata": {
        "colab": {
          "base_uri": "https://localhost:8080/",
          "height": 191
        },
        "id": "SdOdxZwZK04l",
        "outputId": "827c6218-3ce3-4bfe-a41a-a6bd2693cb19"
      },
      "source": [
        "grouped.get_group(200).head()"
      ],
      "execution_count": 17,
      "outputs": [
        {
          "output_type": "execute_result",
          "data": {
            "text/html": [
              "<div>\n",
              "<style scoped>\n",
              "    .dataframe tbody tr th:only-of-type {\n",
              "        vertical-align: middle;\n",
              "    }\n",
              "\n",
              "    .dataframe tbody tr th {\n",
              "        vertical-align: top;\n",
              "    }\n",
              "\n",
              "    .dataframe thead th {\n",
              "        text-align: right;\n",
              "    }\n",
              "</style>\n",
              "<table border=\"1\" class=\"dataframe\">\n",
              "  <thead>\n",
              "    <tr style=\"text-align: right;\">\n",
              "      <th></th>\n",
              "      <th>ClientID</th>\n",
              "      <th>Date</th>\n",
              "      <th>Time</th>\n",
              "      <th>URL</th>\n",
              "      <th>ResponseCode</th>\n",
              "      <th>Size</th>\n",
              "    </tr>\n",
              "  </thead>\n",
              "  <tbody>\n",
              "    <tr>\n",
              "      <th>0</th>\n",
              "      <td>1044</td>\n",
              "      <td>30/Apr/1998</td>\n",
              "      <td>22:46:12</td>\n",
              "      <td>/images/11104.gif</td>\n",
              "      <td>200.0</td>\n",
              "      <td>508.0</td>\n",
              "    </tr>\n",
              "    <tr>\n",
              "      <th>1</th>\n",
              "      <td>10871</td>\n",
              "      <td>01/May/1998</td>\n",
              "      <td>12:10:53</td>\n",
              "      <td>/images/ligne.gif</td>\n",
              "      <td>200.0</td>\n",
              "      <td>169.0</td>\n",
              "    </tr>\n",
              "    <tr>\n",
              "      <th>2</th>\n",
              "      <td>11012</td>\n",
              "      <td>01/May/1998</td>\n",
              "      <td>12:17:30</td>\n",
              "      <td>/english/individuals/player111503.htm</td>\n",
              "      <td>200.0</td>\n",
              "      <td>7027.0</td>\n",
              "    </tr>\n",
              "    <tr>\n",
              "      <th>5</th>\n",
              "      <td>13649</td>\n",
              "      <td>01/May/1998</td>\n",
              "      <td>14:55:01</td>\n",
              "      <td>/images/hm_anime_e.gif</td>\n",
              "      <td>200.0</td>\n",
              "      <td>15609.0</td>\n",
              "    </tr>\n",
              "    <tr>\n",
              "      <th>6</th>\n",
              "      <td>15006</td>\n",
              "      <td>01/May/1998</td>\n",
              "      <td>16:14:32</td>\n",
              "      <td>/english/images/comp_bu_group_off.gif</td>\n",
              "      <td>200.0</td>\n",
              "      <td>1557.0</td>\n",
              "    </tr>\n",
              "  </tbody>\n",
              "</table>\n",
              "</div>"
            ],
            "text/plain": [
              "   ClientID         Date  ... ResponseCode     Size\n",
              "0      1044  30/Apr/1998  ...        200.0    508.0\n",
              "1     10871  01/May/1998  ...        200.0    169.0\n",
              "2     11012  01/May/1998  ...        200.0   7027.0\n",
              "5     13649  01/May/1998  ...        200.0  15609.0\n",
              "6     15006  01/May/1998  ...        200.0   1557.0\n",
              "\n",
              "[5 rows x 6 columns]"
            ]
          },
          "metadata": {
            "tags": []
          },
          "execution_count": 17
        }
      ]
    },
    {
      "cell_type": "markdown",
      "metadata": {
        "id": "Zqkx7TCyK04l"
      },
      "source": [
        "You can also group by multiple columns by just passing the a list of column names. For example to group by both date and response code you can run"
      ]
    },
    {
      "cell_type": "code",
      "metadata": {
        "id": "sA-j8pwqK04l"
      },
      "source": [
        "multi_grouped = log_df.groupby(['ResponseCode', 'Date'])"
      ],
      "execution_count": 18,
      "outputs": []
    },
    {
      "cell_type": "markdown",
      "metadata": {
        "id": "jLeHDAgTK04l"
      },
      "source": [
        "Pandas also has useful commands (Links to an external site.) to print various statistics about elements in each group.\n",
        "\n",
        "1. grouped.describe() prints summary statistics for numeric columns in each group\n",
        "2. grouped.size() prints the number of elements in each group\n",
        "3. Similarly grouped.sum(), grouped.mean() and grouped.median() print the sum, mean and median values for numeric columns in each group\n"
      ]
    },
    {
      "cell_type": "markdown",
      "metadata": {
        "id": "clauaoxOK04m"
      },
      "source": [
        "## Plotting data in a DataFrame"
      ]
    },
    {
      "cell_type": "markdown",
      "metadata": {
        "id": "0MSntflvK04n"
      },
      "source": [
        "To plot a Series or a DataFrame you can just call plot() on the object and for a histogram just call hist()"
      ]
    },
    {
      "cell_type": "code",
      "metadata": {
        "colab": {
          "base_uri": "https://localhost:8080/",
          "height": 281
        },
        "id": "iWW3udSNK04n",
        "outputId": "45cc783b-4418-40aa-be71-a5c0c185f685"
      },
      "source": [
        "rand_df = pd.DataFrame({'a' : randn(100)})\n",
        "rand_df.plot()"
      ],
      "execution_count": 19,
      "outputs": [
        {
          "output_type": "execute_result",
          "data": {
            "text/plain": [
              "<matplotlib.axes._subplots.AxesSubplot at 0x7f2f7c2fe048>"
            ]
          },
          "metadata": {
            "tags": []
          },
          "execution_count": 19
        },
        {
          "output_type": "display_data",
          "data": {
            "image/png": "[encoded data removed]",
            "text/plain": [
              "<Figure size 432x288 with 1 Axes>"
            ]
          },
          "metadata": {
            "tags": [],
            "needs_background": "light"
          }
        }
      ]
    },
    {
      "cell_type": "code",
      "metadata": {
        "colab": {
          "base_uri": "https://localhost:8080/",
          "height": 313
        },
        "id": "EaaZMXsuK04n",
        "outputId": "1153ea5e-6f0c-4407-da5b-85918f5f0631"
      },
      "source": [
        "rand_df.hist()"
      ],
      "execution_count": 20,
      "outputs": [
        {
          "output_type": "execute_result",
          "data": {
            "text/plain": [
              "array([[<matplotlib.axes._subplots.AxesSubplot object at 0x7f2f7c27f6a0>]],\n",
              "      dtype=object)"
            ]
          },
          "metadata": {
            "tags": []
          },
          "execution_count": 20
        },
        {
          "output_type": "display_data",
          "data": {
            "image/png": "[encoded data removed]",
            "text/plain": [
              "<Figure size 432x288 with 1 Axes>"
            ]
          },
          "metadata": {
            "tags": [],
            "needs_background": "light"
          }
        }
      ]
    },
    {
      "cell_type": "markdown",
      "metadata": {
        "id": "_TJn0gPxK04o"
      },
      "source": [
        "# Joins in Pandas"
      ]
    },
    {
      "cell_type": "markdown",
      "metadata": {
        "id": "9meVpxJLK04o"
      },
      "source": [
        "## Joins\n",
        "\n",
        "A **join** is a way to connect rows in two different data tables based on some criteria.\n",
        "Suppose the university has a database for student records with two tables in it: *Students* and *Grades*.\n"
      ]
    },
    {
      "cell_type": "code",
      "metadata": {
        "colab": {
          "base_uri": "https://localhost:8080/",
          "height": 105
        },
        "id": "FdAjbFQIK04o",
        "outputId": "7e970a72-8529-440e-9f17-c363d9a0b9f2"
      },
      "source": [
        "import pandas as pd\n",
        "\n",
        "Students = pd.DataFrame({'student_id': [1, 2], 'name': ['Alice', 'Bob']})\n",
        "Students"
      ],
      "execution_count": 21,
      "outputs": [
        {
          "output_type": "execute_result",
          "data": {
            "text/html": [
              "<div>\n",
              "<style scoped>\n",
              "    .dataframe tbody tr th:only-of-type {\n",
              "        vertical-align: middle;\n",
              "    }\n",
              "\n",
              "    .dataframe tbody tr th {\n",
              "        vertical-align: top;\n",
              "    }\n",
              "\n",
              "    .dataframe thead th {\n",
              "        text-align: right;\n",
              "    }\n",
              "</style>\n",
              "<table border=\"1\" class=\"dataframe\">\n",
              "  <thead>\n",
              "    <tr style=\"text-align: right;\">\n",
              "      <th></th>\n",
              "      <th>student_id</th>\n",
              "      <th>name</th>\n",
              "    </tr>\n",
              "  </thead>\n",
              "  <tbody>\n",
              "    <tr>\n",
              "      <th>0</th>\n",
              "      <td>1</td>\n",
              "      <td>Alice</td>\n",
              "    </tr>\n",
              "    <tr>\n",
              "      <th>1</th>\n",
              "      <td>2</td>\n",
              "      <td>Bob</td>\n",
              "    </tr>\n",
              "  </tbody>\n",
              "</table>\n",
              "</div>"
            ],
            "text/plain": [
              "   student_id   name\n",
              "0           1  Alice\n",
              "1           2    Bob"
            ]
          },
          "metadata": {
            "tags": []
          },
          "execution_count": 21
        }
      ]
    },
    {
      "cell_type": "code",
      "metadata": {
        "colab": {
          "base_uri": "https://localhost:8080/",
          "height": 162
        },
        "id": "vfjeCjooK04o",
        "outputId": "73e1d4fa-009b-4add-9429-8b516b6956dd"
      },
      "source": [
        "Grades = pd.DataFrame({'student_id': [1, 1, 2, 2], 'class_id': [1, 2, 1, 3], 'grade': ['A', 'C', 'B', 'B']})\n",
        "Grades"
      ],
      "execution_count": 22,
      "outputs": [
        {
          "output_type": "execute_result",
          "data": {
            "text/html": [
              "<div>\n",
              "<style scoped>\n",
              "    .dataframe tbody tr th:only-of-type {\n",
              "        vertical-align: middle;\n",
              "    }\n",
              "\n",
              "    .dataframe tbody tr th {\n",
              "        vertical-align: top;\n",
              "    }\n",
              "\n",
              "    .dataframe thead th {\n",
              "        text-align: right;\n",
              "    }\n",
              "</style>\n",
              "<table border=\"1\" class=\"dataframe\">\n",
              "  <thead>\n",
              "    <tr style=\"text-align: right;\">\n",
              "      <th></th>\n",
              "      <th>student_id</th>\n",
              "      <th>class_id</th>\n",
              "      <th>grade</th>\n",
              "    </tr>\n",
              "  </thead>\n",
              "  <tbody>\n",
              "    <tr>\n",
              "      <th>0</th>\n",
              "      <td>1</td>\n",
              "      <td>1</td>\n",
              "      <td>A</td>\n",
              "    </tr>\n",
              "    <tr>\n",
              "      <th>1</th>\n",
              "      <td>1</td>\n",
              "      <td>2</td>\n",
              "      <td>C</td>\n",
              "    </tr>\n",
              "    <tr>\n",
              "      <th>2</th>\n",
              "      <td>2</td>\n",
              "      <td>1</td>\n",
              "      <td>B</td>\n",
              "    </tr>\n",
              "    <tr>\n",
              "      <th>3</th>\n",
              "      <td>2</td>\n",
              "      <td>3</td>\n",
              "      <td>B</td>\n",
              "    </tr>\n",
              "  </tbody>\n",
              "</table>\n",
              "</div>"
            ],
            "text/plain": [
              "   student_id  class_id grade\n",
              "0           1         1     A\n",
              "1           1         2     C\n",
              "2           2         1     B\n",
              "3           2         3     B"
            ]
          },
          "metadata": {
            "tags": []
          },
          "execution_count": 22
        }
      ]
    },
    {
      "cell_type": "markdown",
      "metadata": {
        "id": "zd7OZG5DK04p"
      },
      "source": [
        "Let's say we want to know all of Bob's grades.\n",
        "Then, we can look up Bob's student ID in the Students table, and with the ID, look up his grades in the Grades table.\n",
        "Joins naturally express this process: when two tables share a common type of column (student ID in this case), we can join the tables together to get a complete view.\n",
        "\n",
        "In Pandas, we can use the **merge** method to perform a join.\n",
        "Pass the two tables to join as the first arguments, then the \"on\" parameter is set to the join column name."
      ]
    },
    {
      "cell_type": "code",
      "metadata": {
        "colab": {
          "base_uri": "https://localhost:8080/",
          "height": 162
        },
        "id": "qelD7eH0K04p",
        "outputId": "02ef6d7a-8691-4604-e866-4096de1f7c60"
      },
      "source": [
        "Student_Grades = pd.merge(Students, Grades, on='student_id')\n",
        "Student_Grades"
      ],
      "execution_count": 23,
      "outputs": [
        {
          "output_type": "execute_result",
          "data": {
            "text/html": [
              "<div>\n",
              "<style scoped>\n",
              "    .dataframe tbody tr th:only-of-type {\n",
              "        vertical-align: middle;\n",
              "    }\n",
              "\n",
              "    .dataframe tbody tr th {\n",
              "        vertical-align: top;\n",
              "    }\n",
              "\n",
              "    .dataframe thead th {\n",
              "        text-align: right;\n",
              "    }\n",
              "</style>\n",
              "<table border=\"1\" class=\"dataframe\">\n",
              "  <thead>\n",
              "    <tr style=\"text-align: right;\">\n",
              "      <th></th>\n",
              "      <th>student_id</th>\n",
              "      <th>name</th>\n",
              "      <th>class_id</th>\n",
              "      <th>grade</th>\n",
              "    </tr>\n",
              "  </thead>\n",
              "  <tbody>\n",
              "    <tr>\n",
              "      <th>0</th>\n",
              "      <td>1</td>\n",
              "      <td>Alice</td>\n",
              "      <td>1</td>\n",
              "      <td>A</td>\n",
              "    </tr>\n",
              "    <tr>\n",
              "      <th>1</th>\n",
              "      <td>1</td>\n",
              "      <td>Alice</td>\n",
              "      <td>2</td>\n",
              "      <td>C</td>\n",
              "    </tr>\n",
              "    <tr>\n",
              "      <th>2</th>\n",
              "      <td>2</td>\n",
              "      <td>Bob</td>\n",
              "      <td>1</td>\n",
              "      <td>B</td>\n",
              "    </tr>\n",
              "    <tr>\n",
              "      <th>3</th>\n",
              "      <td>2</td>\n",
              "      <td>Bob</td>\n",
              "      <td>3</td>\n",
              "      <td>B</td>\n",
              "    </tr>\n",
              "  </tbody>\n",
              "</table>\n",
              "</div>"
            ],
            "text/plain": [
              "   student_id   name  class_id grade\n",
              "0           1  Alice         1     A\n",
              "1           1  Alice         2     C\n",
              "2           2    Bob         1     B\n",
              "3           2    Bob         3     B"
            ]
          },
          "metadata": {
            "tags": []
          },
          "execution_count": 23
        }
      ]
    },
    {
      "cell_type": "markdown",
      "metadata": {
        "id": "S1gW3f9qK04q"
      },
      "source": [
        "> TODO\n",
        "\n",
        "1. Use **merge** to join Student_Grades with the Classes table below, and find out what class Alice got an A in."
      ]
    },
    {
      "cell_type": "code",
      "metadata": {
        "colab": {
          "base_uri": "https://localhost:8080/"
        },
        "id": "U-Y2xqBmK04q",
        "outputId": "6ad341c0-104e-40fd-a440-e07d7f7bb90d"
      },
      "source": [
        "Classes = pd.DataFrame({'class_id': [1, 2, 3], 'title': ['Math', 'English', 'Spanish']})\r\n",
        "class_grades=pd.merge(Classes,Student_Grades,on=\"class_id\")\r\n",
        "alice_grades=class_grades[class_grades['name']=='Alice']\r\n",
        "print(alice_grades[alice_grades['grade']=='A']['title'].values)"
      ],
      "execution_count": 26,
      "outputs": [
        {
          "output_type": "stream",
          "text": [
            "['Math']\n"
          ],
          "name": "stdout"
        }
      ]
    },
    {
      "cell_type": "markdown",
      "metadata": {
        "id": "siCTTE6AK04q"
      },
      "source": [
        "# Joining the Restaurant Data\n",
        "\n",
        "Now let's load the restaurant data that we will be analyzing:"
      ]
    },
    {
      "cell_type": "code",
      "metadata": {
        "colab": {
          "base_uri": "https://localhost:8080/"
        },
        "id": "xjAM2sYjK04q",
        "outputId": "55233fca-01f2-4d17-fa75-5334f45efcf1"
      },
      "source": [
        "resto = pd.read_csv('restaurants.csv')\n",
        "resto.info()"
      ],
      "execution_count": 28,
      "outputs": [
        {
          "output_type": "stream",
          "text": [
            "<class 'pandas.core.frame.DataFrame'>\n",
            "RangeIndex: 858 entries, 0 to 857\n",
            "Data columns (total 4 columns):\n",
            " #   Column   Non-Null Count  Dtype \n",
            "---  ------   --------------  ----- \n",
            " 0   id       858 non-null    int64 \n",
            " 1   cluster  858 non-null    int64 \n",
            " 2   name     858 non-null    object\n",
            " 3   city     858 non-null    object\n",
            "dtypes: int64(2), object(2)\n",
            "memory usage: 26.9+ KB\n"
          ],
          "name": "stdout"
        }
      ]
    },
    {
      "cell_type": "code",
      "metadata": {
        "colab": {
          "base_uri": "https://localhost:8080/",
          "height": 335
        },
        "id": "lNta76zNK04r",
        "outputId": "1482f0f7-74df-46c9-a53b-477cbd1ba11b"
      },
      "source": [
        "resto[:10]"
      ],
      "execution_count": 29,
      "outputs": [
        {
          "output_type": "execute_result",
          "data": {
            "text/html": [
              "<div>\n",
              "<style scoped>\n",
              "    .dataframe tbody tr th:only-of-type {\n",
              "        vertical-align: middle;\n",
              "    }\n",
              "\n",
              "    .dataframe tbody tr th {\n",
              "        vertical-align: top;\n",
              "    }\n",
              "\n",
              "    .dataframe thead th {\n",
              "        text-align: right;\n",
              "    }\n",
              "</style>\n",
              "<table border=\"1\" class=\"dataframe\">\n",
              "  <thead>\n",
              "    <tr style=\"text-align: right;\">\n",
              "      <th></th>\n",
              "      <th>id</th>\n",
              "      <th>cluster</th>\n",
              "      <th>name</th>\n",
              "      <th>city</th>\n",
              "    </tr>\n",
              "  </thead>\n",
              "  <tbody>\n",
              "    <tr>\n",
              "      <th>0</th>\n",
              "      <td>560</td>\n",
              "      <td>453</td>\n",
              "      <td>2223</td>\n",
              "      <td>san francisco</td>\n",
              "    </tr>\n",
              "    <tr>\n",
              "      <th>1</th>\n",
              "      <td>781</td>\n",
              "      <td>675</td>\n",
              "      <td>103 west</td>\n",
              "      <td>atlanta</td>\n",
              "    </tr>\n",
              "    <tr>\n",
              "      <th>2</th>\n",
              "      <td>279</td>\n",
              "      <td>172</td>\n",
              "      <td>20 mott</td>\n",
              "      <td>new york</td>\n",
              "    </tr>\n",
              "    <tr>\n",
              "      <th>3</th>\n",
              "      <td>43</td>\n",
              "      <td>23</td>\n",
              "      <td>21 club</td>\n",
              "      <td>new york</td>\n",
              "    </tr>\n",
              "    <tr>\n",
              "      <th>4</th>\n",
              "      <td>44</td>\n",
              "      <td>23</td>\n",
              "      <td>21 club</td>\n",
              "      <td>new york city</td>\n",
              "    </tr>\n",
              "    <tr>\n",
              "      <th>5</th>\n",
              "      <td>280</td>\n",
              "      <td>173</td>\n",
              "      <td>9 jones street</td>\n",
              "      <td>new york</td>\n",
              "    </tr>\n",
              "    <tr>\n",
              "      <th>6</th>\n",
              "      <td>486</td>\n",
              "      <td>379</td>\n",
              "      <td>abbey</td>\n",
              "      <td>atlanta</td>\n",
              "    </tr>\n",
              "    <tr>\n",
              "      <th>7</th>\n",
              "      <td>145</td>\n",
              "      <td>74</td>\n",
              "      <td>abruzzi</td>\n",
              "      <td>atlanta</td>\n",
              "    </tr>\n",
              "    <tr>\n",
              "      <th>8</th>\n",
              "      <td>146</td>\n",
              "      <td>74</td>\n",
              "      <td>abruzzi</td>\n",
              "      <td>atlanta</td>\n",
              "    </tr>\n",
              "    <tr>\n",
              "      <th>9</th>\n",
              "      <td>561</td>\n",
              "      <td>454</td>\n",
              "      <td>acquarello</td>\n",
              "      <td>san francisco</td>\n",
              "    </tr>\n",
              "  </tbody>\n",
              "</table>\n",
              "</div>"
            ],
            "text/plain": [
              "    id  cluster            name           city\n",
              "0  560      453            2223  san francisco\n",
              "1  781      675        103 west        atlanta\n",
              "2  279      172         20 mott       new york\n",
              "3   43       23         21 club       new york\n",
              "4   44       23         21 club  new york city\n",
              "5  280      173  9 jones street       new york\n",
              "6  486      379           abbey        atlanta\n",
              "7  145       74         abruzzi        atlanta\n",
              "8  146       74         abruzzi        atlanta\n",
              "9  561      454      acquarello  san francisco"
            ]
          },
          "metadata": {
            "tags": []
          },
          "execution_count": 29
        }
      ]
    },
    {
      "cell_type": "markdown",
      "metadata": {
        "id": "xigGXgsXK04r"
      },
      "source": [
        "The restaurant data has four columns.\n",
        "**id** is a unique ID field (unique for each row), **name** is the name of the restaurant, and **city** is where it is located.\n",
        "The fourth column, **cluster**, is a \"gold standard\" column.\n",
        "If two records have the same **cluster**, that means they are both about the same restaurant.\n",
        "\n",
        "The type of join we made above between Students and Grades, where we link records with equal values in a common column, is called an *equijoin*.\n",
        "Equijoins may join on more than one column, too (both value have to match).\n",
        "\n",
        "Let's use an equijoin to find pairs of duplicate restaurant records.\n",
        "We join the data to itself, on the **cluster** column.\n",
        "\n",
        "> Note: a join between a table and itself is called a *self-join*.\n",
        "\n",
        "The result (\"clusters\" below) has a lot of extra records in it.\n",
        "For example, since we're joining a table to itself, every record matches itself.\n",
        "We can filter on IDs to get rid of these extra join results.\n",
        "Note that when Pandas joins two tables that have columns with the same name, it appends \"_x\" and \"_y\" to the names to distinguish them."
      ]
    },
    {
      "cell_type": "code",
      "metadata": {
        "colab": {
          "base_uri": "https://localhost:8080/",
          "height": 335
        },
        "id": "YuvPoLjwK04r",
        "outputId": "0a61d659-aa09-4178-c542-5f4a65c59f89"
      },
      "source": [
        "clusters = pd.merge(resto, resto, on='cluster')\n",
        "clusters = clusters[clusters.id_x != clusters.id_y]\n",
        "clusters[:10]"
      ],
      "execution_count": 30,
      "outputs": [
        {
          "output_type": "execute_result",
          "data": {
            "text/html": [
              "<div>\n",
              "<style scoped>\n",
              "    .dataframe tbody tr th:only-of-type {\n",
              "        vertical-align: middle;\n",
              "    }\n",
              "\n",
              "    .dataframe tbody tr th {\n",
              "        vertical-align: top;\n",
              "    }\n",
              "\n",
              "    .dataframe thead th {\n",
              "        text-align: right;\n",
              "    }\n",
              "</style>\n",
              "<table border=\"1\" class=\"dataframe\">\n",
              "  <thead>\n",
              "    <tr style=\"text-align: right;\">\n",
              "      <th></th>\n",
              "      <th>id_x</th>\n",
              "      <th>cluster</th>\n",
              "      <th>name_x</th>\n",
              "      <th>city_x</th>\n",
              "      <th>id_y</th>\n",
              "      <th>name_y</th>\n",
              "      <th>city_y</th>\n",
              "    </tr>\n",
              "  </thead>\n",
              "  <tbody>\n",
              "    <tr>\n",
              "      <th>4</th>\n",
              "      <td>43</td>\n",
              "      <td>23</td>\n",
              "      <td>21 club</td>\n",
              "      <td>new york</td>\n",
              "      <td>44</td>\n",
              "      <td>21 club</td>\n",
              "      <td>new york city</td>\n",
              "    </tr>\n",
              "    <tr>\n",
              "      <th>5</th>\n",
              "      <td>44</td>\n",
              "      <td>23</td>\n",
              "      <td>21 club</td>\n",
              "      <td>new york city</td>\n",
              "      <td>43</td>\n",
              "      <td>21 club</td>\n",
              "      <td>new york</td>\n",
              "    </tr>\n",
              "    <tr>\n",
              "      <th>10</th>\n",
              "      <td>145</td>\n",
              "      <td>74</td>\n",
              "      <td>abruzzi</td>\n",
              "      <td>atlanta</td>\n",
              "      <td>146</td>\n",
              "      <td>abruzzi</td>\n",
              "      <td>atlanta</td>\n",
              "    </tr>\n",
              "    <tr>\n",
              "      <th>11</th>\n",
              "      <td>146</td>\n",
              "      <td>74</td>\n",
              "      <td>abruzzi</td>\n",
              "      <td>atlanta</td>\n",
              "      <td>145</td>\n",
              "      <td>abruzzi</td>\n",
              "      <td>atlanta</td>\n",
              "    </tr>\n",
              "    <tr>\n",
              "      <th>20</th>\n",
              "      <td>184</td>\n",
              "      <td>94</td>\n",
              "      <td>alain rondelli</td>\n",
              "      <td>san francisco</td>\n",
              "      <td>185</td>\n",
              "      <td>alain rondelli</td>\n",
              "      <td>san francisco</td>\n",
              "    </tr>\n",
              "    <tr>\n",
              "      <th>21</th>\n",
              "      <td>185</td>\n",
              "      <td>94</td>\n",
              "      <td>alain rondelli</td>\n",
              "      <td>san francisco</td>\n",
              "      <td>184</td>\n",
              "      <td>alain rondelli</td>\n",
              "      <td>san francisco</td>\n",
              "    </tr>\n",
              "    <tr>\n",
              "      <th>36</th>\n",
              "      <td>186</td>\n",
              "      <td>95</td>\n",
              "      <td>aqua</td>\n",
              "      <td>san francisco</td>\n",
              "      <td>187</td>\n",
              "      <td>aqua</td>\n",
              "      <td>san francisco</td>\n",
              "    </tr>\n",
              "    <tr>\n",
              "      <th>37</th>\n",
              "      <td>187</td>\n",
              "      <td>95</td>\n",
              "      <td>aqua</td>\n",
              "      <td>san francisco</td>\n",
              "      <td>186</td>\n",
              "      <td>aqua</td>\n",
              "      <td>san francisco</td>\n",
              "    </tr>\n",
              "    <tr>\n",
              "      <th>40</th>\n",
              "      <td>45</td>\n",
              "      <td>24</td>\n",
              "      <td>aquavit</td>\n",
              "      <td>new york</td>\n",
              "      <td>46</td>\n",
              "      <td>aquavit</td>\n",
              "      <td>new york city</td>\n",
              "    </tr>\n",
              "    <tr>\n",
              "      <th>41</th>\n",
              "      <td>46</td>\n",
              "      <td>24</td>\n",
              "      <td>aquavit</td>\n",
              "      <td>new york city</td>\n",
              "      <td>45</td>\n",
              "      <td>aquavit</td>\n",
              "      <td>new york</td>\n",
              "    </tr>\n",
              "  </tbody>\n",
              "</table>\n",
              "</div>"
            ],
            "text/plain": [
              "    id_x  cluster          name_x  ... id_y          name_y         city_y\n",
              "4     43       23         21 club  ...   44         21 club  new york city\n",
              "5     44       23         21 club  ...   43         21 club       new york\n",
              "10   145       74         abruzzi  ...  146         abruzzi        atlanta\n",
              "11   146       74         abruzzi  ...  145         abruzzi        atlanta\n",
              "20   184       94  alain rondelli  ...  185  alain rondelli  san francisco\n",
              "21   185       94  alain rondelli  ...  184  alain rondelli  san francisco\n",
              "36   186       95            aqua  ...  187            aqua  san francisco\n",
              "37   187       95            aqua  ...  186            aqua  san francisco\n",
              "40    45       24         aquavit  ...   46         aquavit  new york city\n",
              "41    46       24         aquavit  ...   45         aquavit       new york\n",
              "\n",
              "[10 rows x 7 columns]"
            ]
          },
          "metadata": {
            "tags": []
          },
          "execution_count": 30
        }
      ]
    },
    {
      "cell_type": "markdown",
      "metadata": {
        "id": "i3YcM3oSK04s"
      },
      "source": [
        "> TODO\n",
        "\n",
        "1. There are still extra records in *clusters*, above.  If records *A* and *B* match each other, then we will get both (*A*, *B*) and (*B*, *A*) in the output.\n",
        "Filter *clusters* so that we only keep one instance of each matching pair (HINT: use the IDs again).\n"
      ]
    },
    {
      "cell_type": "code",
      "metadata": {
        "colab": {
          "base_uri": "https://localhost:8080/",
          "height": 391
        },
        "id": "kW1Pz0QcK04s",
        "outputId": "e627e6b3-3e94-49a1-829e-19f5bd2edfb3"
      },
      "source": [
        "clusters=clusters[clusters.id_x!=clusters.id_y]\r\n",
        "clusters"
      ],
      "execution_count": 32,
      "outputs": [
        {
          "output_type": "execute_result",
          "data": {
            "text/html": [
              "<div>\n",
              "<style scoped>\n",
              "    .dataframe tbody tr th:only-of-type {\n",
              "        vertical-align: middle;\n",
              "    }\n",
              "\n",
              "    .dataframe tbody tr th {\n",
              "        vertical-align: top;\n",
              "    }\n",
              "\n",
              "    .dataframe thead th {\n",
              "        text-align: right;\n",
              "    }\n",
              "</style>\n",
              "<table border=\"1\" class=\"dataframe\">\n",
              "  <thead>\n",
              "    <tr style=\"text-align: right;\">\n",
              "      <th></th>\n",
              "      <th>id_x</th>\n",
              "      <th>cluster</th>\n",
              "      <th>name_x</th>\n",
              "      <th>city_x</th>\n",
              "      <th>id_y</th>\n",
              "      <th>name_y</th>\n",
              "      <th>city_y</th>\n",
              "    </tr>\n",
              "  </thead>\n",
              "  <tbody>\n",
              "    <tr>\n",
              "      <th>4</th>\n",
              "      <td>43</td>\n",
              "      <td>23</td>\n",
              "      <td>21 club</td>\n",
              "      <td>new york</td>\n",
              "      <td>44</td>\n",
              "      <td>21 club</td>\n",
              "      <td>new york city</td>\n",
              "    </tr>\n",
              "    <tr>\n",
              "      <th>5</th>\n",
              "      <td>44</td>\n",
              "      <td>23</td>\n",
              "      <td>21 club</td>\n",
              "      <td>new york city</td>\n",
              "      <td>43</td>\n",
              "      <td>21 club</td>\n",
              "      <td>new york</td>\n",
              "    </tr>\n",
              "    <tr>\n",
              "      <th>10</th>\n",
              "      <td>145</td>\n",
              "      <td>74</td>\n",
              "      <td>abruzzi</td>\n",
              "      <td>atlanta</td>\n",
              "      <td>146</td>\n",
              "      <td>abruzzi</td>\n",
              "      <td>atlanta</td>\n",
              "    </tr>\n",
              "    <tr>\n",
              "      <th>11</th>\n",
              "      <td>146</td>\n",
              "      <td>74</td>\n",
              "      <td>abruzzi</td>\n",
              "      <td>atlanta</td>\n",
              "      <td>145</td>\n",
              "      <td>abruzzi</td>\n",
              "      <td>atlanta</td>\n",
              "    </tr>\n",
              "    <tr>\n",
              "      <th>20</th>\n",
              "      <td>184</td>\n",
              "      <td>94</td>\n",
              "      <td>alain rondelli</td>\n",
              "      <td>san francisco</td>\n",
              "      <td>185</td>\n",
              "      <td>alain rondelli</td>\n",
              "      <td>san francisco</td>\n",
              "    </tr>\n",
              "    <tr>\n",
              "      <th>...</th>\n",
              "      <td>...</td>\n",
              "      <td>...</td>\n",
              "      <td>...</td>\n",
              "      <td>...</td>\n",
              "      <td>...</td>\n",
              "      <td>...</td>\n",
              "      <td>...</td>\n",
              "    </tr>\n",
              "    <tr>\n",
              "      <th>1019</th>\n",
              "      <td>128</td>\n",
              "      <td>65</td>\n",
              "      <td>union square cafe</td>\n",
              "      <td>new york city</td>\n",
              "      <td>127</td>\n",
              "      <td>union square cafe</td>\n",
              "      <td>new york</td>\n",
              "    </tr>\n",
              "    <tr>\n",
              "      <th>1035</th>\n",
              "      <td>129</td>\n",
              "      <td>66</td>\n",
              "      <td>virgil's</td>\n",
              "      <td>new york</td>\n",
              "      <td>130</td>\n",
              "      <td>virgil's real bbq</td>\n",
              "      <td>new york city</td>\n",
              "    </tr>\n",
              "    <tr>\n",
              "      <th>1036</th>\n",
              "      <td>130</td>\n",
              "      <td>66</td>\n",
              "      <td>virgil's real bbq</td>\n",
              "      <td>new york city</td>\n",
              "      <td>129</td>\n",
              "      <td>virgil's</td>\n",
              "      <td>new york</td>\n",
              "    </tr>\n",
              "    <tr>\n",
              "      <th>1060</th>\n",
              "      <td>42</td>\n",
              "      <td>22</td>\n",
              "      <td>yujean kang's</td>\n",
              "      <td>pasadena</td>\n",
              "      <td>41</td>\n",
              "      <td>yujean kang's gourmet chinese cuisine</td>\n",
              "      <td>los angeles</td>\n",
              "    </tr>\n",
              "    <tr>\n",
              "      <th>1061</th>\n",
              "      <td>41</td>\n",
              "      <td>22</td>\n",
              "      <td>yujean kang's gourmet chinese cuisine</td>\n",
              "      <td>los angeles</td>\n",
              "      <td>42</td>\n",
              "      <td>yujean kang's</td>\n",
              "      <td>pasadena</td>\n",
              "    </tr>\n",
              "  </tbody>\n",
              "</table>\n",
              "<p>212 rows × 7 columns</p>\n",
              "</div>"
            ],
            "text/plain": [
              "      id_x  cluster  ...                                 name_y         city_y\n",
              "4       43       23  ...                                21 club  new york city\n",
              "5       44       23  ...                                21 club       new york\n",
              "10     145       74  ...                                abruzzi        atlanta\n",
              "11     146       74  ...                                abruzzi        atlanta\n",
              "20     184       94  ...                         alain rondelli  san francisco\n",
              "...    ...      ...  ...                                    ...            ...\n",
              "1019   128       65  ...                      union square cafe       new york\n",
              "1035   129       66  ...                      virgil's real bbq  new york city\n",
              "1036   130       66  ...                               virgil's       new york\n",
              "1060    42       22  ...  yujean kang's gourmet chinese cuisine    los angeles\n",
              "1061    41       22  ...                          yujean kang's       pasadena\n",
              "\n",
              "[212 rows x 7 columns]"
            ]
          },
          "metadata": {
            "tags": []
          },
          "execution_count": 32
        }
      ]
    },
    {
      "cell_type": "markdown",
      "metadata": {
        "id": "qKTtKpcOK04t"
      },
      "source": [
        "> TODO: How many rows are there in your filtered table?"
      ]
    },
    {
      "cell_type": "code",
      "metadata": {
        "colab": {
          "base_uri": "https://localhost:8080/"
        },
        "id": "xjhh90RHP-UE",
        "outputId": "9fee5085-6a72-402e-a5c9-f153373199d8"
      },
      "source": [
        "clusters_f=clusters.drop_duplicates(subset='cluster')\r\n",
        "len(clusters_f)"
      ],
      "execution_count": 33,
      "outputs": [
        {
          "output_type": "execute_result",
          "data": {
            "text/plain": [
              "106"
            ]
          },
          "metadata": {
            "tags": []
          },
          "execution_count": 33
        }
      ]
    },
    {
      "cell_type": "markdown",
      "metadata": {
        "id": "s02VnIUiK04t"
      },
      "source": [
        "## Optional: Fuzzy Joins\n",
        "\n",
        "Do this section if you have time. There are no lab responses for it however. \n",
        "\n",
        "Sometimes an equijoin isn't good enough.\n",
        "\n",
        "Say you want to match up records that are *almost* equal in a column.\n",
        "Or where a *function* of a columns is equal.\n",
        "Or maybe you don't care about equality: maybe \"less than\" or \"greater than or equal to\" is what you want.\n",
        "These cases call for a more general join than equijoin.\n",
        "\n",
        "We are going to make one of these joins between the restaurants data and itself.\n",
        "Specifically, we want to match up pairs of records whose restaurant names are *almost* the same.\n",
        "We call this a **fuzzy join**.\n",
        "\n",
        "To do a fuzzy join in Pandas we need to go about it in a few steps:\n",
        "\n",
        "1.  Join every record in the first table with every record in the second table. This is called the **Cartesian product** of the tables, and it's simply a list of all possible pairs of records.\n",
        "2.  Add a column to the Cartesian product that measures how \"similar\" each pair of records is. This is our **join criterion**.\n",
        "3.  Filter the Cartesian product based on when the join criterion is \"similar enough.\"\n",
        "\n",
        "> SQL Aside: In SQL, all of joins are supported in about the same way as equijoins are.\n",
        "> Essentially, you write a boolean expression on columns from the join-tables, and whenever that expression is true, you join the records together.\n",
        "> This is very similar to writing an **if** statement in python or Java.\n",
        "\n",
        "Let's do an example to get the hang of it."
      ]
    },
    {
      "cell_type": "markdown",
      "metadata": {
        "id": "Tr-iIHdTK04t"
      },
      "source": [
        "### Edit Distance\n",
        "\n",
        "We're going to be using a string-similarity python library to compute \"edit distance\".\n",
        "\n",
        "To test that it works, the following should run OK:"
      ]
    },
    {
      "cell_type": "code",
      "metadata": {
        "id": "qYgwisTiK04t"
      },
      "source": [
        "import Levenshtein as L"
      ],
      "execution_count": null,
      "outputs": []
    },
    {
      "cell_type": "markdown",
      "metadata": {
        "id": "6pjUN909K04u"
      },
      "source": [
        "#### 1. Join every record in the first table with every record in the second table.\n",
        "\n",
        "We use a \"dummy\" column to compute the Cartesian product of the data with itself.\n",
        "**dummy** takes the same value for every record, so we can do an equijoin and get back all pairs."
      ]
    },
    {
      "cell_type": "code",
      "metadata": {
        "id": "1TKbL7CCK04u"
      },
      "source": [
        "resto['dummy'] = 0\n",
        "prod = pd.merge(resto, resto, on='dummy')\n",
        "\n",
        "# Clean up\n",
        "del prod['dummy']\n",
        "del resto['dummy']\n",
        "\n",
        "# Show that prod is the size of \"resto\" squared:\n",
        "print len(prod), len(resto)**2"
      ],
      "execution_count": null,
      "outputs": []
    },
    {
      "cell_type": "code",
      "metadata": {
        "id": "j_V7Wfh9K04u"
      },
      "source": [
        "prod[:10]"
      ],
      "execution_count": null,
      "outputs": []
    },
    {
      "cell_type": "markdown",
      "metadata": {
        "id": "HjxC9NsoK04v"
      },
      "source": [
        "* Like we did with *clusters* remove \"extra\" record pairs, e.g., ones with the same ID."
      ]
    },
    {
      "cell_type": "code",
      "metadata": {
        "id": "aG0-gueHK04v"
      },
      "source": [
        ""
      ],
      "execution_count": null,
      "outputs": []
    },
    {
      "cell_type": "markdown",
      "metadata": {
        "id": "gzUb20OWK04v"
      },
      "source": [
        "#### 2. Add a column to the Cartesian product that measures how \"similar\" each pair of records is.\n",
        "\n",
        "In the homework assignment, we used a string similarity metric called *cosine similarity* which measured how many \"tokens\" two strings shared in common.\n",
        "Now, we're going to use an alternative measure of string similarity  called *edit-distance*.\n",
        "[Edit-distance](http://en.wikipedia.org/wiki/Edit_distance) counts the number of simple changes you have to make to a string to turn it into another string.\n",
        "\n",
        "Import the edit distance library:"
      ]
    },
    {
      "cell_type": "code",
      "metadata": {
        "id": "O82q701VK04v"
      },
      "source": [
        "import Levenshtein as L\n",
        "\n",
        "L.distance('Hello, World!', 'Hallo, World!')"
      ],
      "execution_count": null,
      "outputs": []
    },
    {
      "cell_type": "markdown",
      "metadata": {
        "id": "Dqo8SpDHK04w"
      },
      "source": [
        "Next, we add a computed column, named **distance**, that measures the edit distance between the names of two restaurants:"
      ]
    },
    {
      "cell_type": "code",
      "metadata": {
        "id": "J5dWgVBHK04w"
      },
      "source": [
        "# This takes a minute or two to run\n",
        "prod['distance'] = prod.apply(lambda r: L.distance(r['name_x'], r['name_y']), axis=1)"
      ],
      "execution_count": null,
      "outputs": []
    },
    {
      "cell_type": "markdown",
      "metadata": {
        "id": "3E7-LO01K04w"
      },
      "source": [
        "#### 3.  Filter the Cartesian product based on when the join criterion is \"similar enough.\"\n",
        "\n",
        "Now we complete the join by filtering out pairs or records that aren't equal enough for our liking.\n",
        "As in the first homework assignment, we can only figure out how similar is \"similar enough\" by trying out some different options.\n",
        "Let's try maximum edit-distance from 0 to 10 and compute precision and recall."
      ]
    },
    {
      "cell_type": "code",
      "metadata": {
        "id": "Go3bMnyPK04w"
      },
      "source": [
        "%matplotlib inline\n",
        "import pylab\n",
        "\n",
        "def accuracy(max_distance):\n",
        "    similar = prod[prod.distance < max_distance]\n",
        "    correct = float(sum(similar.cluster_x == similar.cluster_y))\n",
        "    precision = correct / len(similar)\n",
        "    recall = correct / len(clusters)\n",
        "    return (precision, recall)\n",
        "\n",
        "thresholds = range(1, 11)\n",
        "p = []\n",
        "r = []\n",
        "\n",
        "for t in thresholds:\n",
        "    acc = accuracy(t)\n",
        "    p.append(acc[0])\n",
        "    r.append(acc[1])\n",
        "\n",
        "pylab.plot(thresholds, p)\n",
        "pylab.plot(thresholds, r)\n",
        "pylab.legend(['precision', 'recall'], loc='upper left')"
      ],
      "execution_count": null,
      "outputs": []
    },
    {
      "cell_type": "markdown",
      "metadata": {
        "id": "lvIElCGLK04x"
      },
      "source": [
        "_1._ Another common way to visualize the tradeoff between precision and recall is to plot them directly against each other.\n",
        "Create a scatterplot with precision on one axis and recall on the other.\n",
        "Where are \"good\" points on the plot, and where are \"bad\" ones.\n"
      ]
    }
  ]
}